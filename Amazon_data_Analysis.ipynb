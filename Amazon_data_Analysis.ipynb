{
 "cells": [
  {
   "cell_type": "markdown",
   "id": "91c72124",
   "metadata": {},
   "source": [
    "# AMAZON DATA ANALYSIS:"
   ]
  },
  {
   "cell_type": "markdown",
   "id": "f4ba93aa",
   "metadata": {},
   "source": [
    "Read The Data :"
   ]
  },
  {
   "cell_type": "code",
   "execution_count": 1,
   "id": "eb0ddc1a",
   "metadata": {},
   "outputs": [],
   "source": [
    "#importing necessary libraries\n",
    "import pandas as pd\n",
    "import numpy as np\n",
    "import seaborn as sns\n",
    "import matplotlib.pyplot as plt "
   ]
  },
  {
   "cell_type": "code",
   "execution_count": 2,
   "id": "d1c6560e",
   "metadata": {},
   "outputs": [],
   "source": [
    "import warnings\n",
    "from warnings import filterwarnings \n",
    "filterwarnings('ignore')"
   ]
  },
  {
   "cell_type": "code",
   "execution_count": 3,
   "id": "3f0cfe30",
   "metadata": {},
   "outputs": [],
   "source": [
    "import sqlite3"
   ]
  },
  {
   "cell_type": "code",
   "execution_count": 4,
   "id": "01c4763f",
   "metadata": {},
   "outputs": [],
   "source": [
    "con = sqlite3.connect(r'C:\\Users\\home\\Downloads\\Sql data/database.sqlite')"
   ]
  },
  {
   "cell_type": "code",
   "execution_count": 5,
   "id": "cc0424cd",
   "metadata": {},
   "outputs": [
    {
     "data": {
      "text/plain": [
       "sqlite3.Connection"
      ]
     },
     "execution_count": 5,
     "metadata": {},
     "output_type": "execute_result"
    }
   ],
   "source": [
    "type(con)"
   ]
  },
  {
   "cell_type": "code",
   "execution_count": 6,
   "id": "c1d080de",
   "metadata": {},
   "outputs": [],
   "source": [
    "#reading data from SQLite Database\n",
    "df = pd.read_sql_query(\"SELECT * FROM REVIEWS\", con)"
   ]
  },
  {
   "cell_type": "code",
   "execution_count": 7,
   "id": "b2ee9f52",
   "metadata": {},
   "outputs": [
    {
     "data": {
      "text/plain": [
       "(568454, 10)"
      ]
     },
     "execution_count": 7,
     "metadata": {},
     "output_type": "execute_result"
    }
   ],
   "source": [
    "df.shape"
   ]
  },
  {
   "cell_type": "code",
   "execution_count": 8,
   "id": "2e878f02",
   "metadata": {},
   "outputs": [
    {
     "data": {
      "text/plain": [
       "pandas.core.frame.DataFrame"
      ]
     },
     "execution_count": 8,
     "metadata": {},
     "output_type": "execute_result"
    }
   ],
   "source": [
    "type(df)"
   ]
  },
  {
   "cell_type": "code",
   "execution_count": 9,
   "id": "0ae7581e",
   "metadata": {},
   "outputs": [
    {
     "data": {
      "text/html": [
       "<div>\n",
       "<style scoped>\n",
       "    .dataframe tbody tr th:only-of-type {\n",
       "        vertical-align: middle;\n",
       "    }\n",
       "\n",
       "    .dataframe tbody tr th {\n",
       "        vertical-align: top;\n",
       "    }\n",
       "\n",
       "    .dataframe thead th {\n",
       "        text-align: right;\n",
       "    }\n",
       "</style>\n",
       "<table border=\"1\" class=\"dataframe\">\n",
       "  <thead>\n",
       "    <tr style=\"text-align: right;\">\n",
       "      <th></th>\n",
       "      <th>Id</th>\n",
       "      <th>ProductId</th>\n",
       "      <th>UserId</th>\n",
       "      <th>ProfileName</th>\n",
       "      <th>HelpfulnessNumerator</th>\n",
       "      <th>HelpfulnessDenominator</th>\n",
       "      <th>Score</th>\n",
       "      <th>Time</th>\n",
       "      <th>Summary</th>\n",
       "      <th>Text</th>\n",
       "    </tr>\n",
       "  </thead>\n",
       "  <tbody>\n",
       "    <tr>\n",
       "      <th>0</th>\n",
       "      <td>1</td>\n",
       "      <td>B001E4KFG0</td>\n",
       "      <td>A3SGXH7AUHU8GW</td>\n",
       "      <td>delmartian</td>\n",
       "      <td>1</td>\n",
       "      <td>1</td>\n",
       "      <td>5</td>\n",
       "      <td>1303862400</td>\n",
       "      <td>Good Quality Dog Food</td>\n",
       "      <td>I have bought several of the Vitality canned d...</td>\n",
       "    </tr>\n",
       "    <tr>\n",
       "      <th>1</th>\n",
       "      <td>2</td>\n",
       "      <td>B00813GRG4</td>\n",
       "      <td>A1D87F6ZCVE5NK</td>\n",
       "      <td>dll pa</td>\n",
       "      <td>0</td>\n",
       "      <td>0</td>\n",
       "      <td>1</td>\n",
       "      <td>1346976000</td>\n",
       "      <td>Not as Advertised</td>\n",
       "      <td>Product arrived labeled as Jumbo Salted Peanut...</td>\n",
       "    </tr>\n",
       "    <tr>\n",
       "      <th>2</th>\n",
       "      <td>3</td>\n",
       "      <td>B000LQOCH0</td>\n",
       "      <td>ABXLMWJIXXAIN</td>\n",
       "      <td>Natalia Corres \"Natalia Corres\"</td>\n",
       "      <td>1</td>\n",
       "      <td>1</td>\n",
       "      <td>4</td>\n",
       "      <td>1219017600</td>\n",
       "      <td>\"Delight\" says it all</td>\n",
       "      <td>This is a confection that has been around a fe...</td>\n",
       "    </tr>\n",
       "    <tr>\n",
       "      <th>3</th>\n",
       "      <td>4</td>\n",
       "      <td>B000UA0QIQ</td>\n",
       "      <td>A395BORC6FGVXV</td>\n",
       "      <td>Karl</td>\n",
       "      <td>3</td>\n",
       "      <td>3</td>\n",
       "      <td>2</td>\n",
       "      <td>1307923200</td>\n",
       "      <td>Cough Medicine</td>\n",
       "      <td>If you are looking for the secret ingredient i...</td>\n",
       "    </tr>\n",
       "    <tr>\n",
       "      <th>4</th>\n",
       "      <td>5</td>\n",
       "      <td>B006K2ZZ7K</td>\n",
       "      <td>A1UQRSCLF8GW1T</td>\n",
       "      <td>Michael D. Bigham \"M. Wassir\"</td>\n",
       "      <td>0</td>\n",
       "      <td>0</td>\n",
       "      <td>5</td>\n",
       "      <td>1350777600</td>\n",
       "      <td>Great taffy</td>\n",
       "      <td>Great taffy at a great price.  There was a wid...</td>\n",
       "    </tr>\n",
       "  </tbody>\n",
       "</table>\n",
       "</div>"
      ],
      "text/plain": [
       "   Id   ProductId          UserId                      ProfileName  \\\n",
       "0   1  B001E4KFG0  A3SGXH7AUHU8GW                       delmartian   \n",
       "1   2  B00813GRG4  A1D87F6ZCVE5NK                           dll pa   \n",
       "2   3  B000LQOCH0   ABXLMWJIXXAIN  Natalia Corres \"Natalia Corres\"   \n",
       "3   4  B000UA0QIQ  A395BORC6FGVXV                             Karl   \n",
       "4   5  B006K2ZZ7K  A1UQRSCLF8GW1T    Michael D. Bigham \"M. Wassir\"   \n",
       "\n",
       "   HelpfulnessNumerator  HelpfulnessDenominator  Score        Time  \\\n",
       "0                     1                       1      5  1303862400   \n",
       "1                     0                       0      1  1346976000   \n",
       "2                     1                       1      4  1219017600   \n",
       "3                     3                       3      2  1307923200   \n",
       "4                     0                       0      5  1350777600   \n",
       "\n",
       "                 Summary                                               Text  \n",
       "0  Good Quality Dog Food  I have bought several of the Vitality canned d...  \n",
       "1      Not as Advertised  Product arrived labeled as Jumbo Salted Peanut...  \n",
       "2  \"Delight\" says it all  This is a confection that has been around a fe...  \n",
       "3         Cough Medicine  If you are looking for the secret ingredient i...  \n",
       "4            Great taffy  Great taffy at a great price.  There was a wid...  "
      ]
     },
     "execution_count": 9,
     "metadata": {},
     "output_type": "execute_result"
    }
   ],
   "source": [
    "df.head(5)"
   ]
  },
  {
   "cell_type": "code",
   "execution_count": 10,
   "id": "714f2fbd",
   "metadata": {},
   "outputs": [
    {
     "data": {
      "text/plain": [
       "Index(['Id', 'ProductId', 'UserId', 'ProfileName', 'HelpfulnessNumerator',\n",
       "       'HelpfulnessDenominator', 'Score', 'Time', 'Summary', 'Text'],\n",
       "      dtype='object')"
      ]
     },
     "execution_count": 10,
     "metadata": {},
     "output_type": "execute_result"
    }
   ],
   "source": [
    "df.columns"
   ]
  },
  {
   "cell_type": "markdown",
   "id": "fbc5aa99",
   "metadata": {},
   "source": [
    "# DATA PREPARING / CLEANING"
   ]
  },
  {
   "cell_type": "markdown",
   "id": "fe794b9f",
   "metadata": {},
   "source": [
    "AFTER UNDERSTANDING THE DATA THROUGH SHAPE,INFO AND TYPE . THE NEXT STEP IS DATA PREPARATION"
   ]
  },
  {
   "cell_type": "code",
   "execution_count": 11,
   "id": "47c53650",
   "metadata": {},
   "outputs": [
    {
     "data": {
      "text/plain": [
       "0         False\n",
       "1         False\n",
       "2         False\n",
       "3         False\n",
       "4         False\n",
       "          ...  \n",
       "568449    False\n",
       "568450    False\n",
       "568451    False\n",
       "568452    False\n",
       "568453    False\n",
       "Length: 568454, dtype: bool"
      ]
     },
     "execution_count": 11,
     "metadata": {},
     "output_type": "execute_result"
    }
   ],
   "source": [
    "#Prep step 1 : Finding columns that have wrong values\n",
    "df['HelpfulnessNumerator'] > df['HelpfulnessDenominator']"
   ]
  },
  {
   "cell_type": "code",
   "execution_count": 12,
   "id": "bf449529",
   "metadata": {},
   "outputs": [
    {
     "data": {
      "text/html": [
       "<div>\n",
       "<style scoped>\n",
       "    .dataframe tbody tr th:only-of-type {\n",
       "        vertical-align: middle;\n",
       "    }\n",
       "\n",
       "    .dataframe tbody tr th {\n",
       "        vertical-align: top;\n",
       "    }\n",
       "\n",
       "    .dataframe thead th {\n",
       "        text-align: right;\n",
       "    }\n",
       "</style>\n",
       "<table border=\"1\" class=\"dataframe\">\n",
       "  <thead>\n",
       "    <tr style=\"text-align: right;\">\n",
       "      <th></th>\n",
       "      <th>Id</th>\n",
       "      <th>ProductId</th>\n",
       "      <th>UserId</th>\n",
       "      <th>ProfileName</th>\n",
       "      <th>HelpfulnessNumerator</th>\n",
       "      <th>HelpfulnessDenominator</th>\n",
       "      <th>Score</th>\n",
       "      <th>Time</th>\n",
       "      <th>Summary</th>\n",
       "      <th>Text</th>\n",
       "    </tr>\n",
       "  </thead>\n",
       "  <tbody>\n",
       "    <tr>\n",
       "      <th>44736</th>\n",
       "      <td>44737</td>\n",
       "      <td>B001EQ55RW</td>\n",
       "      <td>A2V0I904FH7ABY</td>\n",
       "      <td>Ram</td>\n",
       "      <td>3</td>\n",
       "      <td>2</td>\n",
       "      <td>4</td>\n",
       "      <td>1212883200</td>\n",
       "      <td>Pure cocoa taste with crunchy almonds inside</td>\n",
       "      <td>It was almost a 'love at first bite' - the per...</td>\n",
       "    </tr>\n",
       "    <tr>\n",
       "      <th>64421</th>\n",
       "      <td>64422</td>\n",
       "      <td>B000MIDROQ</td>\n",
       "      <td>A161DK06JJMCYF</td>\n",
       "      <td>J. E. Stephens \"Jeanne\"</td>\n",
       "      <td>3</td>\n",
       "      <td>1</td>\n",
       "      <td>5</td>\n",
       "      <td>1224892800</td>\n",
       "      <td>Bought This for My Son at College</td>\n",
       "      <td>My son loves spaghetti so I didn't hesitate or...</td>\n",
       "    </tr>\n",
       "  </tbody>\n",
       "</table>\n",
       "</div>"
      ],
      "text/plain": [
       "          Id   ProductId          UserId              ProfileName  \\\n",
       "44736  44737  B001EQ55RW  A2V0I904FH7ABY                      Ram   \n",
       "64421  64422  B000MIDROQ  A161DK06JJMCYF  J. E. Stephens \"Jeanne\"   \n",
       "\n",
       "       HelpfulnessNumerator  HelpfulnessDenominator  Score        Time  \\\n",
       "44736                     3                       2      4  1212883200   \n",
       "64421                     3                       1      5  1224892800   \n",
       "\n",
       "                                            Summary  \\\n",
       "44736  Pure cocoa taste with crunchy almonds inside   \n",
       "64421             Bought This for My Son at College   \n",
       "\n",
       "                                                    Text  \n",
       "44736  It was almost a 'love at first bite' - the per...  \n",
       "64421  My son loves spaghetti so I didn't hesitate or...  "
      ]
     },
     "execution_count": 12,
     "metadata": {},
     "output_type": "execute_result"
    }
   ],
   "source": [
    "df[df['HelpfulnessNumerator'] > df['HelpfulnessDenominator']]"
   ]
  },
  {
   "cell_type": "code",
   "execution_count": 13,
   "id": "ca717424",
   "metadata": {},
   "outputs": [],
   "source": [
    "df_valid = df[df['HelpfulnessNumerator'] <+ df['HelpfulnessDenominator']]"
   ]
  },
  {
   "cell_type": "code",
   "execution_count": 14,
   "id": "3111387f",
   "metadata": {},
   "outputs": [
    {
     "data": {
      "text/plain": [
       "(115091, 10)"
      ]
     },
     "execution_count": 14,
     "metadata": {},
     "output_type": "execute_result"
    }
   ],
   "source": [
    "df_valid.shape"
   ]
  },
  {
   "cell_type": "code",
   "execution_count": 15,
   "id": "883483c0",
   "metadata": {},
   "outputs": [
    {
     "data": {
      "text/plain": [
       "Index(['Id', 'ProductId', 'UserId', 'ProfileName', 'HelpfulnessNumerator',\n",
       "       'HelpfulnessDenominator', 'Score', 'Time', 'Summary', 'Text'],\n",
       "      dtype='object')"
      ]
     },
     "execution_count": 15,
     "metadata": {},
     "output_type": "execute_result"
    }
   ],
   "source": [
    "df_valid.columns"
   ]
  },
  {
   "cell_type": "code",
   "execution_count": 16,
   "id": "ff0d31ab",
   "metadata": {},
   "outputs": [
    {
     "data": {
      "text/plain": [
       "14        False\n",
       "15        False\n",
       "26        False\n",
       "27        False\n",
       "31        False\n",
       "          ...  \n",
       "568405    False\n",
       "568413     True\n",
       "568417    False\n",
       "568435    False\n",
       "568439    False\n",
       "Length: 115091, dtype: bool"
      ]
     },
     "execution_count": 16,
     "metadata": {},
     "output_type": "execute_result"
    }
   ],
   "source": [
    "#Removing duplicate columns\n",
    "df_valid.duplicated([ 'UserId', 'ProfileName', 'Time', 'Text'])"
   ]
  },
  {
   "cell_type": "code",
   "execution_count": 17,
   "id": "4f76e873",
   "metadata": {},
   "outputs": [
    {
     "data": {
      "text/html": [
       "<div>\n",
       "<style scoped>\n",
       "    .dataframe tbody tr th:only-of-type {\n",
       "        vertical-align: middle;\n",
       "    }\n",
       "\n",
       "    .dataframe tbody tr th {\n",
       "        vertical-align: top;\n",
       "    }\n",
       "\n",
       "    .dataframe thead th {\n",
       "        text-align: right;\n",
       "    }\n",
       "</style>\n",
       "<table border=\"1\" class=\"dataframe\">\n",
       "  <thead>\n",
       "    <tr style=\"text-align: right;\">\n",
       "      <th></th>\n",
       "      <th>Id</th>\n",
       "      <th>ProductId</th>\n",
       "      <th>UserId</th>\n",
       "      <th>ProfileName</th>\n",
       "      <th>HelpfulnessNumerator</th>\n",
       "      <th>HelpfulnessDenominator</th>\n",
       "      <th>Score</th>\n",
       "      <th>Time</th>\n",
       "      <th>Summary</th>\n",
       "      <th>Text</th>\n",
       "    </tr>\n",
       "  </thead>\n",
       "  <tbody>\n",
       "    <tr>\n",
       "      <th>2946</th>\n",
       "      <td>2947</td>\n",
       "      <td>B0002TJAZK</td>\n",
       "      <td>A2ISKAWUPGGOLZ</td>\n",
       "      <td>M. S. Handley</td>\n",
       "      <td>0</td>\n",
       "      <td>1</td>\n",
       "      <td>1</td>\n",
       "      <td>1310774400</td>\n",
       "      <td>Kitty Junk Food</td>\n",
       "      <td>We have five cats - one an elderly cat of 15 y...</td>\n",
       "    </tr>\n",
       "    <tr>\n",
       "      <th>2947</th>\n",
       "      <td>2948</td>\n",
       "      <td>B0002TJAZK</td>\n",
       "      <td>A3TVZM3ZIXG8YW</td>\n",
       "      <td>christopher hayes</td>\n",
       "      <td>0</td>\n",
       "      <td>2</td>\n",
       "      <td>1</td>\n",
       "      <td>1291420800</td>\n",
       "      <td>Filler food is empty, leaves your cat always n...</td>\n",
       "      <td>This review will make me sound really stupid, ...</td>\n",
       "    </tr>\n",
       "    <tr>\n",
       "      <th>4641</th>\n",
       "      <td>4642</td>\n",
       "      <td>B0002NYO9I</td>\n",
       "      <td>A376TWN7I4HMZ8</td>\n",
       "      <td>helios</td>\n",
       "      <td>0</td>\n",
       "      <td>1</td>\n",
       "      <td>5</td>\n",
       "      <td>1324252800</td>\n",
       "      <td>Exaclty what i ordered</td>\n",
       "      <td>Again, exactly what I ordered. No fuss, no mus...</td>\n",
       "    </tr>\n",
       "    <tr>\n",
       "      <th>4642</th>\n",
       "      <td>4643</td>\n",
       "      <td>B0002NYO9I</td>\n",
       "      <td>A29CO2S0VTT0C5</td>\n",
       "      <td>S. Choo</td>\n",
       "      <td>0</td>\n",
       "      <td>3</td>\n",
       "      <td>3</td>\n",
       "      <td>1326758400</td>\n",
       "      <td>get a new package</td>\n",
       "      <td>Berries are find, but the package is bad. Unab...</td>\n",
       "    </tr>\n",
       "    <tr>\n",
       "      <th>9021</th>\n",
       "      <td>9022</td>\n",
       "      <td>B006N3IG4K</td>\n",
       "      <td>A3504B9G5BJJM8</td>\n",
       "      <td>Jeremy Agran \"iamreality\"</td>\n",
       "      <td>3</td>\n",
       "      <td>4</td>\n",
       "      <td>5</td>\n",
       "      <td>1331596800</td>\n",
       "      <td>IT IS NOT DECAF PEOPLE!!!</td>\n",
       "      <td>I'm amazed how many are being so easily fooled...</td>\n",
       "    </tr>\n",
       "    <tr>\n",
       "      <th>...</th>\n",
       "      <td>...</td>\n",
       "      <td>...</td>\n",
       "      <td>...</td>\n",
       "      <td>...</td>\n",
       "      <td>...</td>\n",
       "      <td>...</td>\n",
       "      <td>...</td>\n",
       "      <td>...</td>\n",
       "      <td>...</td>\n",
       "      <td>...</td>\n",
       "    </tr>\n",
       "    <tr>\n",
       "      <th>568354</th>\n",
       "      <td>568355</td>\n",
       "      <td>B003O5Q3KE</td>\n",
       "      <td>A2Q833MV8UEM37</td>\n",
       "      <td>Josh Crick</td>\n",
       "      <td>0</td>\n",
       "      <td>2</td>\n",
       "      <td>1</td>\n",
       "      <td>1286841600</td>\n",
       "      <td>My Dog HATED these treats</td>\n",
       "      <td>Went into the dumpster the very first night. M...</td>\n",
       "    </tr>\n",
       "    <tr>\n",
       "      <th>568388</th>\n",
       "      <td>568389</td>\n",
       "      <td>B001EQ5O6Y</td>\n",
       "      <td>A3JDX65QJO3Q2F</td>\n",
       "      <td>Don't believe it just because someone told yo...</td>\n",
       "      <td>5</td>\n",
       "      <td>6</td>\n",
       "      <td>4</td>\n",
       "      <td>1187395200</td>\n",
       "      <td>Awesome product</td>\n",
       "      <td>I have used agave for many things and find tha...</td>\n",
       "    </tr>\n",
       "    <tr>\n",
       "      <th>568402</th>\n",
       "      <td>568403</td>\n",
       "      <td>B001EQ5O6Y</td>\n",
       "      <td>A1A3H22VVZYUKW</td>\n",
       "      <td>msfreixy</td>\n",
       "      <td>1</td>\n",
       "      <td>3</td>\n",
       "      <td>1</td>\n",
       "      <td>1187049600</td>\n",
       "      <td>alternative sweetner</td>\n",
       "      <td>I was disappointed in this product, as I had r...</td>\n",
       "    </tr>\n",
       "    <tr>\n",
       "      <th>568403</th>\n",
       "      <td>568404</td>\n",
       "      <td>B001EQ5O6Y</td>\n",
       "      <td>A2891E3BMAKGYN</td>\n",
       "      <td>PCNiles \"reader/writer\"</td>\n",
       "      <td>0</td>\n",
       "      <td>6</td>\n",
       "      <td>2</td>\n",
       "      <td>1264118400</td>\n",
       "      <td>Deceptive Term = \"Sticks\"</td>\n",
       "      <td>When I ordered these, based on the description...</td>\n",
       "    </tr>\n",
       "    <tr>\n",
       "      <th>568413</th>\n",
       "      <td>568414</td>\n",
       "      <td>B0018CLWM4</td>\n",
       "      <td>AI3Y26HLPYW4L</td>\n",
       "      <td>kimosabe</td>\n",
       "      <td>1</td>\n",
       "      <td>2</td>\n",
       "      <td>2</td>\n",
       "      <td>1330041600</td>\n",
       "      <td>premium edge cat food</td>\n",
       "      <td>My cats don't like it. what else can I say to ...</td>\n",
       "    </tr>\n",
       "  </tbody>\n",
       "</table>\n",
       "<p>36871 rows × 10 columns</p>\n",
       "</div>"
      ],
      "text/plain": [
       "            Id   ProductId          UserId  \\\n",
       "2946      2947  B0002TJAZK  A2ISKAWUPGGOLZ   \n",
       "2947      2948  B0002TJAZK  A3TVZM3ZIXG8YW   \n",
       "4641      4642  B0002NYO9I  A376TWN7I4HMZ8   \n",
       "4642      4643  B0002NYO9I  A29CO2S0VTT0C5   \n",
       "9021      9022  B006N3IG4K  A3504B9G5BJJM8   \n",
       "...        ...         ...             ...   \n",
       "568354  568355  B003O5Q3KE  A2Q833MV8UEM37   \n",
       "568388  568389  B001EQ5O6Y  A3JDX65QJO3Q2F   \n",
       "568402  568403  B001EQ5O6Y  A1A3H22VVZYUKW   \n",
       "568403  568404  B001EQ5O6Y  A2891E3BMAKGYN   \n",
       "568413  568414  B0018CLWM4   AI3Y26HLPYW4L   \n",
       "\n",
       "                                             ProfileName  \\\n",
       "2946                                       M. S. Handley   \n",
       "2947                                   christopher hayes   \n",
       "4641                                              helios   \n",
       "4642                                             S. Choo   \n",
       "9021                           Jeremy Agran \"iamreality\"   \n",
       "...                                                  ...   \n",
       "568354                                        Josh Crick   \n",
       "568388  Don't believe it just because someone told yo...   \n",
       "568402                                          msfreixy   \n",
       "568403                           PCNiles \"reader/writer\"   \n",
       "568413                                          kimosabe   \n",
       "\n",
       "        HelpfulnessNumerator  HelpfulnessDenominator  Score        Time  \\\n",
       "2946                       0                       1      1  1310774400   \n",
       "2947                       0                       2      1  1291420800   \n",
       "4641                       0                       1      5  1324252800   \n",
       "4642                       0                       3      3  1326758400   \n",
       "9021                       3                       4      5  1331596800   \n",
       "...                      ...                     ...    ...         ...   \n",
       "568354                     0                       2      1  1286841600   \n",
       "568388                     5                       6      4  1187395200   \n",
       "568402                     1                       3      1  1187049600   \n",
       "568403                     0                       6      2  1264118400   \n",
       "568413                     1                       2      2  1330041600   \n",
       "\n",
       "                                                  Summary  \\\n",
       "2946                                      Kitty Junk Food   \n",
       "2947    Filler food is empty, leaves your cat always n...   \n",
       "4641                               Exaclty what i ordered   \n",
       "4642                                    get a new package   \n",
       "9021                            IT IS NOT DECAF PEOPLE!!!   \n",
       "...                                                   ...   \n",
       "568354                          My Dog HATED these treats   \n",
       "568388                                    Awesome product   \n",
       "568402                               alternative sweetner   \n",
       "568403                          Deceptive Term = \"Sticks\"   \n",
       "568413                              premium edge cat food   \n",
       "\n",
       "                                                     Text  \n",
       "2946    We have five cats - one an elderly cat of 15 y...  \n",
       "2947    This review will make me sound really stupid, ...  \n",
       "4641    Again, exactly what I ordered. No fuss, no mus...  \n",
       "4642    Berries are find, but the package is bad. Unab...  \n",
       "9021    I'm amazed how many are being so easily fooled...  \n",
       "...                                                   ...  \n",
       "568354  Went into the dumpster the very first night. M...  \n",
       "568388  I have used agave for many things and find tha...  \n",
       "568402  I was disappointed in this product, as I had r...  \n",
       "568403  When I ordered these, based on the description...  \n",
       "568413  My cats don't like it. what else can I say to ...  \n",
       "\n",
       "[36871 rows x 10 columns]"
      ]
     },
     "execution_count": 17,
     "metadata": {},
     "output_type": "execute_result"
    }
   ],
   "source": [
    "df_valid[df_valid.duplicated([ 'UserId', 'ProfileName', 'Time', 'Text'])]"
   ]
  },
  {
   "cell_type": "code",
   "execution_count": 18,
   "id": "7cb626c7",
   "metadata": {},
   "outputs": [],
   "source": [
    "data = df_valid.drop_duplicates(subset=[ 'UserId', 'ProfileName', 'Time', 'Text'])"
   ]
  },
  {
   "cell_type": "code",
   "execution_count": 19,
   "id": "6b7f9966",
   "metadata": {},
   "outputs": [
    {
     "data": {
      "text/plain": [
       "(78220, 10)"
      ]
     },
     "execution_count": 19,
     "metadata": {},
     "output_type": "execute_result"
    }
   ],
   "source": [
    "data.shape"
   ]
  },
  {
   "cell_type": "code",
   "execution_count": 20,
   "id": "615ea9ce",
   "metadata": {},
   "outputs": [
    {
     "data": {
      "text/plain": [
       "Id                         int64\n",
       "ProductId                 object\n",
       "UserId                    object\n",
       "ProfileName               object\n",
       "HelpfulnessNumerator       int64\n",
       "HelpfulnessDenominator     int64\n",
       "Score                      int64\n",
       "Time                       int64\n",
       "Summary                   object\n",
       "Text                      object\n",
       "dtype: object"
      ]
     },
     "execution_count": 20,
     "metadata": {},
     "output_type": "execute_result"
    }
   ],
   "source": [
    "data.dtypes"
   ]
  },
  {
   "cell_type": "markdown",
   "id": "3d623ac8",
   "metadata": {},
   "source": [
    "AFTER THE DATA TYPE CHECK WE CAN SEE TIME IS IN INT64 FORMAT WHICH HAS TO BE IN DATE TIME FORMAT. LET'S CORRECT IT."
   ]
  },
  {
   "cell_type": "code",
   "execution_count": 21,
   "id": "af8abf1b",
   "metadata": {},
   "outputs": [
    {
     "data": {
      "text/plain": [
       "14        1268352000\n",
       "15        1262044800\n",
       "26        1332633600\n",
       "27        1331856000\n",
       "31        1288310400\n",
       "             ...    \n",
       "568384    1255219200\n",
       "568405    1274918400\n",
       "568417    1257897600\n",
       "568435    1285718400\n",
       "568439    1280102400\n",
       "Name: Time, Length: 78220, dtype: int64"
      ]
     },
     "execution_count": 21,
     "metadata": {},
     "output_type": "execute_result"
    }
   ],
   "source": [
    "#Prep step 2: Correcting data type formats\n",
    "data['Time']"
   ]
  },
  {
   "cell_type": "code",
   "execution_count": 22,
   "id": "1a5d74dd",
   "metadata": {},
   "outputs": [
    {
     "data": {
      "text/plain": [
       "14       1970-01-01 00:00:01.268352000\n",
       "15       1970-01-01 00:00:01.262044800\n",
       "26       1970-01-01 00:00:01.332633600\n",
       "27       1970-01-01 00:00:01.331856000\n",
       "31       1970-01-01 00:00:01.288310400\n",
       "                      ...             \n",
       "568384   1970-01-01 00:00:01.255219200\n",
       "568405   1970-01-01 00:00:01.274918400\n",
       "568417   1970-01-01 00:00:01.257897600\n",
       "568435   1970-01-01 00:00:01.285718400\n",
       "568439   1970-01-01 00:00:01.280102400\n",
       "Name: Time, Length: 78220, dtype: datetime64[ns]"
      ]
     },
     "execution_count": 22,
     "metadata": {},
     "output_type": "execute_result"
    }
   ],
   "source": [
    "pd.to_datetime(data['Time'])"
   ]
  },
  {
   "cell_type": "code",
   "execution_count": 23,
   "id": "52e184bc",
   "metadata": {},
   "outputs": [],
   "source": [
    "data['Time'] = pd.to_datetime(data['Time'], unit='s')"
   ]
  },
  {
   "cell_type": "code",
   "execution_count": 24,
   "id": "9c4fafbb",
   "metadata": {},
   "outputs": [
    {
     "data": {
      "text/plain": [
       "Index(['Id', 'ProductId', 'UserId', 'ProfileName', 'HelpfulnessNumerator',\n",
       "       'HelpfulnessDenominator', 'Score', 'Time', 'Summary', 'Text'],\n",
       "      dtype='object')"
      ]
     },
     "execution_count": 24,
     "metadata": {},
     "output_type": "execute_result"
    }
   ],
   "source": [
    "data.columns"
   ]
  },
  {
   "cell_type": "markdown",
   "id": "b7a6da84",
   "metadata": {},
   "source": [
    "# ANALYSIS"
   ]
  },
  {
   "cell_type": "markdown",
   "id": "cc0e8567",
   "metadata": {},
   "source": [
    "HOW AMAZON RECOMMENDS PRODUCT?"
   ]
  },
  {
   "cell_type": "code",
   "execution_count": 25,
   "id": "65d84528",
   "metadata": {},
   "outputs": [
    {
     "data": {
      "text/plain": [
       "array(['Lynrie \"Oh HELL no\"', 'Brian A. Lee', 'lady21', ...,\n",
       "       'William M. Jacobs', 'carlyowu', 'Donald M. Cook'], dtype=object)"
      ]
     },
     "execution_count": 25,
     "metadata": {},
     "output_type": "execute_result"
    }
   ],
   "source": [
    "data['ProfileName'].unique()"
   ]
  },
  {
   "cell_type": "code",
   "execution_count": 26,
   "id": "65345bac",
   "metadata": {},
   "outputs": [
    {
     "data": {
      "text/plain": [
       "56846"
      ]
     },
     "execution_count": 26,
     "metadata": {},
     "output_type": "execute_result"
    }
   ],
   "source": [
    "data['ProfileName'].nunique()"
   ]
  },
  {
   "cell_type": "code",
   "execution_count": 27,
   "id": "c2eef1e8",
   "metadata": {},
   "outputs": [
    {
     "data": {
      "text/plain": [
       "62052"
      ]
     },
     "execution_count": 27,
     "metadata": {},
     "output_type": "execute_result"
    }
   ],
   "source": [
    "data['UserId'].nunique()"
   ]
  },
  {
   "cell_type": "code",
   "execution_count": 28,
   "id": "e6b4adac",
   "metadata": {},
   "outputs": [],
   "source": [
    "recommend_df = data.groupby(['UserId']).agg({'Summary':'count', 'Text':'count','Score':'mean','ProductId':'count'}).sort_values(by='ProductId', ascending=False)"
   ]
  },
  {
   "cell_type": "code",
   "execution_count": 29,
   "id": "9433ee48",
   "metadata": {},
   "outputs": [
    {
     "data": {
      "text/html": [
       "<div>\n",
       "<style scoped>\n",
       "    .dataframe tbody tr th:only-of-type {\n",
       "        vertical-align: middle;\n",
       "    }\n",
       "\n",
       "    .dataframe tbody tr th {\n",
       "        vertical-align: top;\n",
       "    }\n",
       "\n",
       "    .dataframe thead th {\n",
       "        text-align: right;\n",
       "    }\n",
       "</style>\n",
       "<table border=\"1\" class=\"dataframe\">\n",
       "  <thead>\n",
       "    <tr style=\"text-align: right;\">\n",
       "      <th></th>\n",
       "      <th>Summary</th>\n",
       "      <th>Text</th>\n",
       "      <th>Score</th>\n",
       "      <th>ProductId</th>\n",
       "    </tr>\n",
       "    <tr>\n",
       "      <th>UserId</th>\n",
       "      <th></th>\n",
       "      <th></th>\n",
       "      <th></th>\n",
       "      <th></th>\n",
       "    </tr>\n",
       "  </thead>\n",
       "  <tbody>\n",
       "    <tr>\n",
       "      <th>A281NPSIMI1C2R</th>\n",
       "      <td>70</td>\n",
       "      <td>70</td>\n",
       "      <td>4.800000</td>\n",
       "      <td>70</td>\n",
       "    </tr>\n",
       "    <tr>\n",
       "      <th>A2A1XYSB692L6J</th>\n",
       "      <td>53</td>\n",
       "      <td>53</td>\n",
       "      <td>3.698113</td>\n",
       "      <td>53</td>\n",
       "    </tr>\n",
       "    <tr>\n",
       "      <th>A1LZJZIHUPLDV4</th>\n",
       "      <td>51</td>\n",
       "      <td>51</td>\n",
       "      <td>4.960784</td>\n",
       "      <td>51</td>\n",
       "    </tr>\n",
       "    <tr>\n",
       "      <th>A29313797NGT9L</th>\n",
       "      <td>45</td>\n",
       "      <td>45</td>\n",
       "      <td>3.311111</td>\n",
       "      <td>45</td>\n",
       "    </tr>\n",
       "    <tr>\n",
       "      <th>A1YUL9PCJR3JTY</th>\n",
       "      <td>44</td>\n",
       "      <td>44</td>\n",
       "      <td>4.590909</td>\n",
       "      <td>44</td>\n",
       "    </tr>\n",
       "    <tr>\n",
       "      <th>...</th>\n",
       "      <td>...</td>\n",
       "      <td>...</td>\n",
       "      <td>...</td>\n",
       "      <td>...</td>\n",
       "    </tr>\n",
       "    <tr>\n",
       "      <th>A2BUMO4IARNSL</th>\n",
       "      <td>1</td>\n",
       "      <td>1</td>\n",
       "      <td>1.000000</td>\n",
       "      <td>1</td>\n",
       "    </tr>\n",
       "    <tr>\n",
       "      <th>A2BUPVAQ8NN7EU</th>\n",
       "      <td>1</td>\n",
       "      <td>1</td>\n",
       "      <td>5.000000</td>\n",
       "      <td>1</td>\n",
       "    </tr>\n",
       "    <tr>\n",
       "      <th>A2BUR03REASIKQ</th>\n",
       "      <td>1</td>\n",
       "      <td>1</td>\n",
       "      <td>1.000000</td>\n",
       "      <td>1</td>\n",
       "    </tr>\n",
       "    <tr>\n",
       "      <th>A2BUR0K3PIUMGW</th>\n",
       "      <td>1</td>\n",
       "      <td>1</td>\n",
       "      <td>4.000000</td>\n",
       "      <td>1</td>\n",
       "    </tr>\n",
       "    <tr>\n",
       "      <th>AZZTH6DJ0KSIP</th>\n",
       "      <td>1</td>\n",
       "      <td>1</td>\n",
       "      <td>5.000000</td>\n",
       "      <td>1</td>\n",
       "    </tr>\n",
       "  </tbody>\n",
       "</table>\n",
       "<p>62052 rows × 4 columns</p>\n",
       "</div>"
      ],
      "text/plain": [
       "                Summary  Text     Score  ProductId\n",
       "UserId                                            \n",
       "A281NPSIMI1C2R       70    70  4.800000         70\n",
       "A2A1XYSB692L6J       53    53  3.698113         53\n",
       "A1LZJZIHUPLDV4       51    51  4.960784         51\n",
       "A29313797NGT9L       45    45  3.311111         45\n",
       "A1YUL9PCJR3JTY       44    44  4.590909         44\n",
       "...                 ...   ...       ...        ...\n",
       "A2BUMO4IARNSL         1     1  1.000000          1\n",
       "A2BUPVAQ8NN7EU        1     1  5.000000          1\n",
       "A2BUR03REASIKQ        1     1  1.000000          1\n",
       "A2BUR0K3PIUMGW        1     1  4.000000          1\n",
       "AZZTH6DJ0KSIP         1     1  5.000000          1\n",
       "\n",
       "[62052 rows x 4 columns]"
      ]
     },
     "execution_count": 29,
     "metadata": {},
     "output_type": "execute_result"
    }
   ],
   "source": [
    "recommend_df"
   ]
  },
  {
   "cell_type": "code",
   "execution_count": 30,
   "id": "b42fbc3b",
   "metadata": {},
   "outputs": [],
   "source": [
    "recommend_df.columns = ['Number_of_summaries', 'num_text', 'avg_score', 'Number_of_products']"
   ]
  },
  {
   "cell_type": "code",
   "execution_count": 31,
   "id": "5bf2f558",
   "metadata": {},
   "outputs": [
    {
     "data": {
      "text/html": [
       "<div>\n",
       "<style scoped>\n",
       "    .dataframe tbody tr th:only-of-type {\n",
       "        vertical-align: middle;\n",
       "    }\n",
       "\n",
       "    .dataframe tbody tr th {\n",
       "        vertical-align: top;\n",
       "    }\n",
       "\n",
       "    .dataframe thead th {\n",
       "        text-align: right;\n",
       "    }\n",
       "</style>\n",
       "<table border=\"1\" class=\"dataframe\">\n",
       "  <thead>\n",
       "    <tr style=\"text-align: right;\">\n",
       "      <th></th>\n",
       "      <th>Number_of_summaries</th>\n",
       "      <th>num_text</th>\n",
       "      <th>avg_score</th>\n",
       "      <th>Number_of_products</th>\n",
       "    </tr>\n",
       "    <tr>\n",
       "      <th>UserId</th>\n",
       "      <th></th>\n",
       "      <th></th>\n",
       "      <th></th>\n",
       "      <th></th>\n",
       "    </tr>\n",
       "  </thead>\n",
       "  <tbody>\n",
       "    <tr>\n",
       "      <th>A281NPSIMI1C2R</th>\n",
       "      <td>70</td>\n",
       "      <td>70</td>\n",
       "      <td>4.800000</td>\n",
       "      <td>70</td>\n",
       "    </tr>\n",
       "    <tr>\n",
       "      <th>A2A1XYSB692L6J</th>\n",
       "      <td>53</td>\n",
       "      <td>53</td>\n",
       "      <td>3.698113</td>\n",
       "      <td>53</td>\n",
       "    </tr>\n",
       "    <tr>\n",
       "      <th>A1LZJZIHUPLDV4</th>\n",
       "      <td>51</td>\n",
       "      <td>51</td>\n",
       "      <td>4.960784</td>\n",
       "      <td>51</td>\n",
       "    </tr>\n",
       "    <tr>\n",
       "      <th>A29313797NGT9L</th>\n",
       "      <td>45</td>\n",
       "      <td>45</td>\n",
       "      <td>3.311111</td>\n",
       "      <td>45</td>\n",
       "    </tr>\n",
       "    <tr>\n",
       "      <th>A1YUL9PCJR3JTY</th>\n",
       "      <td>44</td>\n",
       "      <td>44</td>\n",
       "      <td>4.590909</td>\n",
       "      <td>44</td>\n",
       "    </tr>\n",
       "    <tr>\n",
       "      <th>...</th>\n",
       "      <td>...</td>\n",
       "      <td>...</td>\n",
       "      <td>...</td>\n",
       "      <td>...</td>\n",
       "    </tr>\n",
       "    <tr>\n",
       "      <th>A2BUMO4IARNSL</th>\n",
       "      <td>1</td>\n",
       "      <td>1</td>\n",
       "      <td>1.000000</td>\n",
       "      <td>1</td>\n",
       "    </tr>\n",
       "    <tr>\n",
       "      <th>A2BUPVAQ8NN7EU</th>\n",
       "      <td>1</td>\n",
       "      <td>1</td>\n",
       "      <td>5.000000</td>\n",
       "      <td>1</td>\n",
       "    </tr>\n",
       "    <tr>\n",
       "      <th>A2BUR03REASIKQ</th>\n",
       "      <td>1</td>\n",
       "      <td>1</td>\n",
       "      <td>1.000000</td>\n",
       "      <td>1</td>\n",
       "    </tr>\n",
       "    <tr>\n",
       "      <th>A2BUR0K3PIUMGW</th>\n",
       "      <td>1</td>\n",
       "      <td>1</td>\n",
       "      <td>4.000000</td>\n",
       "      <td>1</td>\n",
       "    </tr>\n",
       "    <tr>\n",
       "      <th>AZZTH6DJ0KSIP</th>\n",
       "      <td>1</td>\n",
       "      <td>1</td>\n",
       "      <td>5.000000</td>\n",
       "      <td>1</td>\n",
       "    </tr>\n",
       "  </tbody>\n",
       "</table>\n",
       "<p>62052 rows × 4 columns</p>\n",
       "</div>"
      ],
      "text/plain": [
       "                Number_of_summaries  num_text  avg_score  Number_of_products\n",
       "UserId                                                                      \n",
       "A281NPSIMI1C2R                   70        70   4.800000                  70\n",
       "A2A1XYSB692L6J                   53        53   3.698113                  53\n",
       "A1LZJZIHUPLDV4                   51        51   4.960784                  51\n",
       "A29313797NGT9L                   45        45   3.311111                  45\n",
       "A1YUL9PCJR3JTY                   44        44   4.590909                  44\n",
       "...                             ...       ...        ...                 ...\n",
       "A2BUMO4IARNSL                     1         1   1.000000                   1\n",
       "A2BUPVAQ8NN7EU                    1         1   5.000000                   1\n",
       "A2BUR03REASIKQ                    1         1   1.000000                   1\n",
       "A2BUR0K3PIUMGW                    1         1   4.000000                   1\n",
       "AZZTH6DJ0KSIP                     1         1   5.000000                   1\n",
       "\n",
       "[62052 rows x 4 columns]"
      ]
     },
     "execution_count": 31,
     "metadata": {},
     "output_type": "execute_result"
    }
   ],
   "source": [
    "recommend_df"
   ]
  },
  {
   "cell_type": "code",
   "execution_count": 32,
   "id": "83587a45",
   "metadata": {},
   "outputs": [
    {
     "data": {
      "text/plain": [
       "Index(['A281NPSIMI1C2R', 'A2A1XYSB692L6J', 'A1LZJZIHUPLDV4', 'A29313797NGT9L',\n",
       "       'A1YUL9PCJR3JTY', 'A2R6RA8FRBS608', 'A3D6TFYRMIV3ZL', 'A3F3B1JPACN215',\n",
       "       'AXO4PQU0XG3TG', 'A1WX42M589VAMQ'],\n",
       "      dtype='object', name='UserId')"
      ]
     },
     "execution_count": 32,
     "metadata": {},
     "output_type": "execute_result"
    }
   ],
   "source": [
    "recommend_df.index[0:10]"
   ]
  },
  {
   "cell_type": "code",
   "execution_count": 33,
   "id": "01e5650a",
   "metadata": {},
   "outputs": [
    {
     "data": {
      "text/plain": [
       "UserId\n",
       "A281NPSIMI1C2R    70\n",
       "A2A1XYSB692L6J    53\n",
       "A1LZJZIHUPLDV4    51\n",
       "A29313797NGT9L    45\n",
       "A1YUL9PCJR3JTY    44\n",
       "A2R6RA8FRBS608    43\n",
       "A3D6TFYRMIV3ZL    39\n",
       "A3F3B1JPACN215    38\n",
       "AXO4PQU0XG3TG     37\n",
       "A1WX42M589VAMQ    31\n",
       "Name: Number_of_products, dtype: int64"
      ]
     },
     "execution_count": 33,
     "metadata": {},
     "output_type": "execute_result"
    }
   ],
   "source": [
    "#FINDING OUT TOP 10 PEOPLE TO RECOMMEND PRODUCTS\n",
    "recommend_df['Number_of_products'][0:10]"
   ]
  },
  {
   "cell_type": "code",
   "execution_count": 34,
   "id": "65dcfe42",
   "metadata": {},
   "outputs": [
    {
     "data": {
      "text/plain": [
       "array([70, 53, 51, 45, 44, 43, 39, 38, 37, 31], dtype=int64)"
      ]
     },
     "execution_count": 34,
     "metadata": {},
     "output_type": "execute_result"
    }
   ],
   "source": [
    "recommend_df['Number_of_products'][0:10].values"
   ]
  },
  {
   "cell_type": "code",
   "execution_count": 35,
   "id": "e095edff",
   "metadata": {
    "scrolled": true
   },
   "outputs": [
    {
     "data": {
      "text/plain": [
       "([0, 1, 2, 3, 4, 5, 6, 7, 8, 9],\n",
       " [Text(0, 0, ''),\n",
       "  Text(0, 0, ''),\n",
       "  Text(0, 0, ''),\n",
       "  Text(0, 0, ''),\n",
       "  Text(0, 0, ''),\n",
       "  Text(0, 0, ''),\n",
       "  Text(0, 0, ''),\n",
       "  Text(0, 0, ''),\n",
       "  Text(0, 0, ''),\n",
       "  Text(0, 0, '')])"
      ]
     },
     "execution_count": 35,
     "metadata": {},
     "output_type": "execute_result"
    },
    {
     "data": {
      "image/png": "[encoded data removed]",
      "text/plain": [
       "<Figure size 432x288 with 1 Axes>"
      ]
     },
     "metadata": {
      "needs_background": "light"
     },
     "output_type": "display_data"
    }
   ],
   "source": [
    "#CREATING A BAR CHART\n",
    "plt.bar(recommend_df.index[0:10] , recommend_df['Number_of_products'][0:10].values)\n",
    "plt.xticks(rotation='vertical')"
   ]
  },
  {
   "cell_type": "markdown",
   "id": "8445ebee",
   "metadata": {},
   "source": [
    "FINDING PRODUCTS WITH GOOD NUMBER OF REVIEWS "
   ]
  },
  {
   "cell_type": "code",
   "execution_count": 36,
   "id": "7ffc4545",
   "metadata": {},
   "outputs": [
    {
     "data": {
      "text/plain": [
       "22602"
      ]
     },
     "execution_count": 36,
     "metadata": {},
     "output_type": "execute_result"
    }
   ],
   "source": [
    "len(data['ProductId'].unique())"
   ]
  },
  {
   "cell_type": "code",
   "execution_count": 37,
   "id": "118b0fdd",
   "metadata": {},
   "outputs": [],
   "source": [
    "prod_count = data['ProductId'].value_counts().to_frame()"
   ]
  },
  {
   "cell_type": "code",
   "execution_count": 38,
   "id": "7384fe8d",
   "metadata": {},
   "outputs": [
    {
     "data": {
      "text/html": [
       "<div>\n",
       "<style scoped>\n",
       "    .dataframe tbody tr th:only-of-type {\n",
       "        vertical-align: middle;\n",
       "    }\n",
       "\n",
       "    .dataframe tbody tr th {\n",
       "        vertical-align: top;\n",
       "    }\n",
       "\n",
       "    .dataframe thead th {\n",
       "        text-align: right;\n",
       "    }\n",
       "</style>\n",
       "<table border=\"1\" class=\"dataframe\">\n",
       "  <thead>\n",
       "    <tr style=\"text-align: right;\">\n",
       "      <th></th>\n",
       "      <th>ProductId</th>\n",
       "    </tr>\n",
       "  </thead>\n",
       "  <tbody>\n",
       "    <tr>\n",
       "      <th>B002IEZJMA</th>\n",
       "      <td>240</td>\n",
       "    </tr>\n",
       "    <tr>\n",
       "      <th>B007I7Z3Z0</th>\n",
       "      <td>229</td>\n",
       "    </tr>\n",
       "    <tr>\n",
       "      <th>B006Q820X0</th>\n",
       "      <td>203</td>\n",
       "    </tr>\n",
       "    <tr>\n",
       "      <th>B005ZBZLT4</th>\n",
       "      <td>200</td>\n",
       "    </tr>\n",
       "    <tr>\n",
       "      <th>B004JRMG98</th>\n",
       "      <td>191</td>\n",
       "    </tr>\n",
       "    <tr>\n",
       "      <th>...</th>\n",
       "      <td>...</td>\n",
       "    </tr>\n",
       "    <tr>\n",
       "      <th>B000M8O0ME</th>\n",
       "      <td>1</td>\n",
       "    </tr>\n",
       "    <tr>\n",
       "      <th>B001ASH39W</th>\n",
       "      <td>1</td>\n",
       "    </tr>\n",
       "    <tr>\n",
       "      <th>B000IXWDKE</th>\n",
       "      <td>1</td>\n",
       "    </tr>\n",
       "    <tr>\n",
       "      <th>B0028H3IE8</th>\n",
       "      <td>1</td>\n",
       "    </tr>\n",
       "    <tr>\n",
       "      <th>B000NY4SAG</th>\n",
       "      <td>1</td>\n",
       "    </tr>\n",
       "  </tbody>\n",
       "</table>\n",
       "<p>22602 rows × 1 columns</p>\n",
       "</div>"
      ],
      "text/plain": [
       "            ProductId\n",
       "B002IEZJMA        240\n",
       "B007I7Z3Z0        229\n",
       "B006Q820X0        203\n",
       "B005ZBZLT4        200\n",
       "B004JRMG98        191\n",
       "...               ...\n",
       "B000M8O0ME          1\n",
       "B001ASH39W          1\n",
       "B000IXWDKE          1\n",
       "B0028H3IE8          1\n",
       "B000NY4SAG          1\n",
       "\n",
       "[22602 rows x 1 columns]"
      ]
     },
     "execution_count": 38,
     "metadata": {},
     "output_type": "execute_result"
    }
   ],
   "source": [
    "prod_count"
   ]
  },
  {
   "cell_type": "code",
   "execution_count": 39,
   "id": "e615ac41",
   "metadata": {},
   "outputs": [
    {
     "data": {
      "text/plain": [
       "B002IEZJMA     True\n",
       "B007I7Z3Z0     True\n",
       "B006Q820X0     True\n",
       "B005ZBZLT4     True\n",
       "B004JRMG98     True\n",
       "              ...  \n",
       "B000M8O0ME    False\n",
       "B001ASH39W    False\n",
       "B000IXWDKE    False\n",
       "B0028H3IE8    False\n",
       "B000NY4SAG    False\n",
       "Name: ProductId, Length: 22602, dtype: bool"
      ]
     },
     "execution_count": 39,
     "metadata": {},
     "output_type": "execute_result"
    }
   ],
   "source": [
    "prod_count['ProductId']>190"
   ]
  },
  {
   "cell_type": "code",
   "execution_count": 40,
   "id": "2ac1ff90",
   "metadata": {},
   "outputs": [
    {
     "data": {
      "text/html": [
       "<div>\n",
       "<style scoped>\n",
       "    .dataframe tbody tr th:only-of-type {\n",
       "        vertical-align: middle;\n",
       "    }\n",
       "\n",
       "    .dataframe tbody tr th {\n",
       "        vertical-align: top;\n",
       "    }\n",
       "\n",
       "    .dataframe thead th {\n",
       "        text-align: right;\n",
       "    }\n",
       "</style>\n",
       "<table border=\"1\" class=\"dataframe\">\n",
       "  <thead>\n",
       "    <tr style=\"text-align: right;\">\n",
       "      <th></th>\n",
       "      <th>ProductId</th>\n",
       "    </tr>\n",
       "  </thead>\n",
       "  <tbody>\n",
       "    <tr>\n",
       "      <th>B002IEZJMA</th>\n",
       "      <td>240</td>\n",
       "    </tr>\n",
       "    <tr>\n",
       "      <th>B007I7Z3Z0</th>\n",
       "      <td>229</td>\n",
       "    </tr>\n",
       "    <tr>\n",
       "      <th>B006Q820X0</th>\n",
       "      <td>203</td>\n",
       "    </tr>\n",
       "    <tr>\n",
       "      <th>B005ZBZLT4</th>\n",
       "      <td>200</td>\n",
       "    </tr>\n",
       "    <tr>\n",
       "      <th>B004JRMG98</th>\n",
       "      <td>191</td>\n",
       "    </tr>\n",
       "    <tr>\n",
       "      <th>B006MONQMC</th>\n",
       "      <td>191</td>\n",
       "    </tr>\n",
       "  </tbody>\n",
       "</table>\n",
       "</div>"
      ],
      "text/plain": [
       "            ProductId\n",
       "B002IEZJMA        240\n",
       "B007I7Z3Z0        229\n",
       "B006Q820X0        203\n",
       "B005ZBZLT4        200\n",
       "B004JRMG98        191\n",
       "B006MONQMC        191"
      ]
     },
     "execution_count": 40,
     "metadata": {},
     "output_type": "execute_result"
    }
   ],
   "source": [
    "prod_count[prod_count['ProductId']>190]"
   ]
  },
  {
   "cell_type": "code",
   "execution_count": 41,
   "id": "6d00cae6",
   "metadata": {},
   "outputs": [],
   "source": [
    "freq_prod_ids = prod_count[prod_count['ProductId']>190].index"
   ]
  },
  {
   "cell_type": "code",
   "execution_count": 42,
   "id": "47ab5750",
   "metadata": {},
   "outputs": [
    {
     "data": {
      "text/plain": [
       "Index(['B002IEZJMA', 'B007I7Z3Z0', 'B006Q820X0', 'B005ZBZLT4', 'B004JRMG98',\n",
       "       'B006MONQMC'],\n",
       "      dtype='object')"
      ]
     },
     "execution_count": 42,
     "metadata": {},
     "output_type": "execute_result"
    }
   ],
   "source": [
    "freq_prod_ids "
   ]
  },
  {
   "cell_type": "markdown",
   "id": "11ee5c8b",
   "metadata": {},
   "source": [
    "UNDERSTANDING BEHAVIOURS OF USERS"
   ]
  },
  {
   "cell_type": "code",
   "execution_count": 43,
   "id": "8f082a20",
   "metadata": {},
   "outputs": [
    {
     "data": {
      "text/plain": [
       "14        False\n",
       "15        False\n",
       "26        False\n",
       "27        False\n",
       "31        False\n",
       "          ...  \n",
       "568384    False\n",
       "568405    False\n",
       "568417    False\n",
       "568435    False\n",
       "568439    False\n",
       "Name: ProductId, Length: 78220, dtype: bool"
      ]
     },
     "execution_count": 43,
     "metadata": {},
     "output_type": "execute_result"
    }
   ],
   "source": [
    "data['ProductId'].isin(freq_prod_ids)"
   ]
  },
  {
   "cell_type": "code",
   "execution_count": 44,
   "id": "e79ebf60",
   "metadata": {},
   "outputs": [],
   "source": [
    "#CREATING A DATAFRAME THAT HAS FREQUENT PRODUCTORDERS\n",
    "freq_prod_df = data[data['ProductId'].isin(freq_prod_ids)]"
   ]
  },
  {
   "cell_type": "code",
   "execution_count": 45,
   "id": "b2db12e8",
   "metadata": {},
   "outputs": [
    {
     "data": {
      "text/html": [
       "<div>\n",
       "<style scoped>\n",
       "    .dataframe tbody tr th:only-of-type {\n",
       "        vertical-align: middle;\n",
       "    }\n",
       "\n",
       "    .dataframe tbody tr th {\n",
       "        vertical-align: top;\n",
       "    }\n",
       "\n",
       "    .dataframe thead th {\n",
       "        text-align: right;\n",
       "    }\n",
       "</style>\n",
       "<table border=\"1\" class=\"dataframe\">\n",
       "  <thead>\n",
       "    <tr style=\"text-align: right;\">\n",
       "      <th></th>\n",
       "      <th>Id</th>\n",
       "      <th>ProductId</th>\n",
       "      <th>UserId</th>\n",
       "      <th>ProfileName</th>\n",
       "      <th>HelpfulnessNumerator</th>\n",
       "      <th>HelpfulnessDenominator</th>\n",
       "      <th>Score</th>\n",
       "      <th>Time</th>\n",
       "      <th>Summary</th>\n",
       "      <th>Text</th>\n",
       "    </tr>\n",
       "  </thead>\n",
       "  <tbody>\n",
       "    <tr>\n",
       "      <th>63419</th>\n",
       "      <td>63420</td>\n",
       "      <td>B002IEZJMA</td>\n",
       "      <td>A3A8FMW6BDJ166</td>\n",
       "      <td>janjanmom</td>\n",
       "      <td>2</td>\n",
       "      <td>3</td>\n",
       "      <td>1</td>\n",
       "      <td>2012-07-20</td>\n",
       "      <td>ONLY if you LOVE STRONG COFFEE!!</td>\n",
       "      <td>This coffee drink is so strong that it dried u...</td>\n",
       "    </tr>\n",
       "    <tr>\n",
       "      <th>63420</th>\n",
       "      <td>63421</td>\n",
       "      <td>B002IEZJMA</td>\n",
       "      <td>A10PEXB6XAQ5XF</td>\n",
       "      <td>Michael Gallagher</td>\n",
       "      <td>2</td>\n",
       "      <td>3</td>\n",
       "      <td>3</td>\n",
       "      <td>2012-06-26</td>\n",
       "      <td>It Was Just OK and Not Very Special</td>\n",
       "      <td>I really like coffee, but overall I would rate...</td>\n",
       "    </tr>\n",
       "    <tr>\n",
       "      <th>63482</th>\n",
       "      <td>63483</td>\n",
       "      <td>B002IEZJMA</td>\n",
       "      <td>A2MG95DI29NJTJ</td>\n",
       "      <td>Seth Eliot</td>\n",
       "      <td>7</td>\n",
       "      <td>11</td>\n",
       "      <td>1</td>\n",
       "      <td>2012-06-30</td>\n",
       "      <td>The worst thing I've ever tasted</td>\n",
       "      <td>1. I am purposely writing this review blind of...</td>\n",
       "    </tr>\n",
       "    <tr>\n",
       "      <th>63483</th>\n",
       "      <td>63484</td>\n",
       "      <td>B002IEZJMA</td>\n",
       "      <td>A14OXMSONXSZIR</td>\n",
       "      <td>Steven Y</td>\n",
       "      <td>5</td>\n",
       "      <td>8</td>\n",
       "      <td>5</td>\n",
       "      <td>2012-01-30</td>\n",
       "      <td>My Preferred Caffeine Kick</td>\n",
       "      <td>This is the best coffee-based energy drink. It...</td>\n",
       "    </tr>\n",
       "    <tr>\n",
       "      <th>63484</th>\n",
       "      <td>63485</td>\n",
       "      <td>B002IEZJMA</td>\n",
       "      <td>A303SURN4JXPS8</td>\n",
       "      <td>Maggie</td>\n",
       "      <td>5</td>\n",
       "      <td>8</td>\n",
       "      <td>4</td>\n",
       "      <td>2011-05-18</td>\n",
       "      <td>Very smooth taste</td>\n",
       "      <td>Very flavor of this canned expresso. Better th...</td>\n",
       "    </tr>\n",
       "    <tr>\n",
       "      <th>...</th>\n",
       "      <td>...</td>\n",
       "      <td>...</td>\n",
       "      <td>...</td>\n",
       "      <td>...</td>\n",
       "      <td>...</td>\n",
       "      <td>...</td>\n",
       "      <td>...</td>\n",
       "      <td>...</td>\n",
       "      <td>...</td>\n",
       "      <td>...</td>\n",
       "    </tr>\n",
       "    <tr>\n",
       "      <th>543909</th>\n",
       "      <td>543910</td>\n",
       "      <td>B006MONQMC</td>\n",
       "      <td>AY46DEOJJYFTW</td>\n",
       "      <td>Kerry O. Burns</td>\n",
       "      <td>0</td>\n",
       "      <td>3</td>\n",
       "      <td>1</td>\n",
       "      <td>2012-04-05</td>\n",
       "      <td>nice idea, bad taste...</td>\n",
       "      <td>It must have sounded like a winner on the draw...</td>\n",
       "    </tr>\n",
       "    <tr>\n",
       "      <th>543910</th>\n",
       "      <td>543911</td>\n",
       "      <td>B006MONQMC</td>\n",
       "      <td>A1UMSB7LAW0RIR</td>\n",
       "      <td>Writer of Books - Mage - Mom to Two \"Writer, ...</td>\n",
       "      <td>0</td>\n",
       "      <td>3</td>\n",
       "      <td>1</td>\n",
       "      <td>2012-03-31</td>\n",
       "      <td>Just a mess all the way around.</td>\n",
       "      <td>I love energy drinks. This one is kind of a me...</td>\n",
       "    </tr>\n",
       "    <tr>\n",
       "      <th>543911</th>\n",
       "      <td>543912</td>\n",
       "      <td>B006MONQMC</td>\n",
       "      <td>A305XM71TF83CY</td>\n",
       "      <td>Keleigh Crigler Hadley</td>\n",
       "      <td>0</td>\n",
       "      <td>3</td>\n",
       "      <td>1</td>\n",
       "      <td>2012-03-30</td>\n",
       "      <td>Too confusing</td>\n",
       "      <td>\"A squeeze\"? How do I know how much I should s...</td>\n",
       "    </tr>\n",
       "    <tr>\n",
       "      <th>543912</th>\n",
       "      <td>543913</td>\n",
       "      <td>B006MONQMC</td>\n",
       "      <td>A3T4OHEAHOJ700</td>\n",
       "      <td>B. Colonna</td>\n",
       "      <td>0</td>\n",
       "      <td>3</td>\n",
       "      <td>1</td>\n",
       "      <td>2012-03-30</td>\n",
       "      <td>More Like Vitamin Squeeze Enemy</td>\n",
       "      <td>I had read a few of the reviews on Vitamin Squ...</td>\n",
       "    </tr>\n",
       "    <tr>\n",
       "      <th>543923</th>\n",
       "      <td>543924</td>\n",
       "      <td>B006MONQMC</td>\n",
       "      <td>A2AVMEB8PQOTTE</td>\n",
       "      <td>Robert Riggs \"The Music Connection Wholesale\"</td>\n",
       "      <td>1</td>\n",
       "      <td>5</td>\n",
       "      <td>5</td>\n",
       "      <td>2012-06-19</td>\n",
       "      <td>Vitamin Squeeze</td>\n",
       "      <td>Open the container, one squirt into your glass...</td>\n",
       "    </tr>\n",
       "  </tbody>\n",
       "</table>\n",
       "<p>1254 rows × 10 columns</p>\n",
       "</div>"
      ],
      "text/plain": [
       "            Id   ProductId          UserId  \\\n",
       "63419    63420  B002IEZJMA  A3A8FMW6BDJ166   \n",
       "63420    63421  B002IEZJMA  A10PEXB6XAQ5XF   \n",
       "63482    63483  B002IEZJMA  A2MG95DI29NJTJ   \n",
       "63483    63484  B002IEZJMA  A14OXMSONXSZIR   \n",
       "63484    63485  B002IEZJMA  A303SURN4JXPS8   \n",
       "...        ...         ...             ...   \n",
       "543909  543910  B006MONQMC   AY46DEOJJYFTW   \n",
       "543910  543911  B006MONQMC  A1UMSB7LAW0RIR   \n",
       "543911  543912  B006MONQMC  A305XM71TF83CY   \n",
       "543912  543913  B006MONQMC  A3T4OHEAHOJ700   \n",
       "543923  543924  B006MONQMC  A2AVMEB8PQOTTE   \n",
       "\n",
       "                                             ProfileName  \\\n",
       "63419                                          janjanmom   \n",
       "63420                                  Michael Gallagher   \n",
       "63482                                         Seth Eliot   \n",
       "63483                                           Steven Y   \n",
       "63484                                             Maggie   \n",
       "...                                                  ...   \n",
       "543909                                    Kerry O. Burns   \n",
       "543910  Writer of Books - Mage - Mom to Two \"Writer, ...   \n",
       "543911                            Keleigh Crigler Hadley   \n",
       "543912                                        B. Colonna   \n",
       "543923     Robert Riggs \"The Music Connection Wholesale\"   \n",
       "\n",
       "        HelpfulnessNumerator  HelpfulnessDenominator  Score       Time  \\\n",
       "63419                      2                       3      1 2012-07-20   \n",
       "63420                      2                       3      3 2012-06-26   \n",
       "63482                      7                      11      1 2012-06-30   \n",
       "63483                      5                       8      5 2012-01-30   \n",
       "63484                      5                       8      4 2011-05-18   \n",
       "...                      ...                     ...    ...        ...   \n",
       "543909                     0                       3      1 2012-04-05   \n",
       "543910                     0                       3      1 2012-03-31   \n",
       "543911                     0                       3      1 2012-03-30   \n",
       "543912                     0                       3      1 2012-03-30   \n",
       "543923                     1                       5      5 2012-06-19   \n",
       "\n",
       "                                    Summary  \\\n",
       "63419      ONLY if you LOVE STRONG COFFEE!!   \n",
       "63420   It Was Just OK and Not Very Special   \n",
       "63482      The worst thing I've ever tasted   \n",
       "63483            My Preferred Caffeine Kick   \n",
       "63484                     Very smooth taste   \n",
       "...                                     ...   \n",
       "543909              nice idea, bad taste...   \n",
       "543910      Just a mess all the way around.   \n",
       "543911                        Too confusing   \n",
       "543912      More Like Vitamin Squeeze Enemy   \n",
       "543923                      Vitamin Squeeze   \n",
       "\n",
       "                                                     Text  \n",
       "63419   This coffee drink is so strong that it dried u...  \n",
       "63420   I really like coffee, but overall I would rate...  \n",
       "63482   1. I am purposely writing this review blind of...  \n",
       "63483   This is the best coffee-based energy drink. It...  \n",
       "63484   Very flavor of this canned expresso. Better th...  \n",
       "...                                                   ...  \n",
       "543909  It must have sounded like a winner on the draw...  \n",
       "543910  I love energy drinks. This one is kind of a me...  \n",
       "543911  \"A squeeze\"? How do I know how much I should s...  \n",
       "543912  I had read a few of the reviews on Vitamin Squ...  \n",
       "543923  Open the container, one squirt into your glass...  \n",
       "\n",
       "[1254 rows x 10 columns]"
      ]
     },
     "execution_count": 45,
     "metadata": {},
     "output_type": "execute_result"
    }
   ],
   "source": [
    "freq_prod_df "
   ]
  },
  {
   "cell_type": "code",
   "execution_count": 46,
   "id": "d7b0592a",
   "metadata": {},
   "outputs": [
    {
     "data": {
      "text/plain": [
       "<AxesSubplot:xlabel='count', ylabel='ProductId'>"
      ]
     },
     "execution_count": 46,
     "metadata": {},
     "output_type": "execute_result"
    },
    {
     "data": {
      "image/png": "[encoded data removed]",
      "text/plain": [
       "<Figure size 432x288 with 1 Axes>"
      ]
     },
     "metadata": {
      "needs_background": "light"
     },
     "output_type": "display_data"
    }
   ],
   "source": [
    "sns.countplot(y = 'ProductId' , data = freq_prod_df , hue= 'Score')"
   ]
  },
  {
   "cell_type": "code",
   "execution_count": 47,
   "id": "b8bf6494",
   "metadata": {},
   "outputs": [
    {
     "data": {
      "text/plain": [
       "Index(['Id', 'ProductId', 'UserId', 'ProfileName', 'HelpfulnessNumerator',\n",
       "       'HelpfulnessDenominator', 'Score', 'Time', 'Summary', 'Text'],\n",
       "      dtype='object')"
      ]
     },
     "execution_count": 47,
     "metadata": {},
     "output_type": "execute_result"
    }
   ],
   "source": [
    "data.columns"
   ]
  },
  {
   "cell_type": "markdown",
   "id": "871b7a4a",
   "metadata": {},
   "source": [
    "ANALYSING FREQUENT USERS"
   ]
  },
  {
   "cell_type": "code",
   "execution_count": 48,
   "id": "78127eae",
   "metadata": {},
   "outputs": [],
   "source": [
    "x = data['UserId'].value_counts()"
   ]
  },
  {
   "cell_type": "code",
   "execution_count": 49,
   "id": "ea46642e",
   "metadata": {},
   "outputs": [
    {
     "data": {
      "text/plain": [
       "A281NPSIMI1C2R    70\n",
       "A2A1XYSB692L6J    53\n",
       "A1LZJZIHUPLDV4    51\n",
       "A29313797NGT9L    45\n",
       "A1YUL9PCJR3JTY    44\n",
       "                  ..\n",
       "AIKK0O36ZIWM0      1\n",
       "A2WN4WXBH2B8AN     1\n",
       "AVUF9YJWWNDHL      1\n",
       "A12B2H42QXCG3G     1\n",
       "A34GDV49ZZQKXG     1\n",
       "Name: UserId, Length: 62052, dtype: int64"
      ]
     },
     "execution_count": 49,
     "metadata": {},
     "output_type": "execute_result"
    }
   ],
   "source": [
    "x"
   ]
  },
  {
   "cell_type": "code",
   "execution_count": 50,
   "id": "073c62d7",
   "metadata": {},
   "outputs": [
    {
     "data": {
      "text/html": [
       "<div>\n",
       "<style scoped>\n",
       "    .dataframe tbody tr th:only-of-type {\n",
       "        vertical-align: middle;\n",
       "    }\n",
       "\n",
       "    .dataframe tbody tr th {\n",
       "        vertical-align: top;\n",
       "    }\n",
       "\n",
       "    .dataframe thead th {\n",
       "        text-align: right;\n",
       "    }\n",
       "</style>\n",
       "<table border=\"1\" class=\"dataframe\">\n",
       "  <thead>\n",
       "    <tr style=\"text-align: right;\">\n",
       "      <th></th>\n",
       "      <th>Id</th>\n",
       "      <th>ProductId</th>\n",
       "      <th>UserId</th>\n",
       "      <th>ProfileName</th>\n",
       "      <th>HelpfulnessNumerator</th>\n",
       "      <th>HelpfulnessDenominator</th>\n",
       "      <th>Score</th>\n",
       "      <th>Time</th>\n",
       "      <th>Summary</th>\n",
       "      <th>Text</th>\n",
       "    </tr>\n",
       "  </thead>\n",
       "  <tbody>\n",
       "    <tr>\n",
       "      <th>14</th>\n",
       "      <td>15</td>\n",
       "      <td>B001GVISJM</td>\n",
       "      <td>A2MUGFV2TDQ47K</td>\n",
       "      <td>Lynrie \"Oh HELL no\"</td>\n",
       "      <td>4</td>\n",
       "      <td>5</td>\n",
       "      <td>5</td>\n",
       "      <td>2010-03-12</td>\n",
       "      <td>Strawberry Twizzlers - Yummy</td>\n",
       "      <td>The Strawberry Twizzlers are my guilty pleasur...</td>\n",
       "    </tr>\n",
       "    <tr>\n",
       "      <th>15</th>\n",
       "      <td>16</td>\n",
       "      <td>B001GVISJM</td>\n",
       "      <td>A1CZX3CP8IKQIJ</td>\n",
       "      <td>Brian A. Lee</td>\n",
       "      <td>4</td>\n",
       "      <td>5</td>\n",
       "      <td>5</td>\n",
       "      <td>2009-12-29</td>\n",
       "      <td>Lots of twizzlers, just what you expect.</td>\n",
       "      <td>My daughter loves twizzlers and this shipment ...</td>\n",
       "    </tr>\n",
       "    <tr>\n",
       "      <th>26</th>\n",
       "      <td>27</td>\n",
       "      <td>B001GVISJM</td>\n",
       "      <td>A3RXAU2N8KV45G</td>\n",
       "      <td>lady21</td>\n",
       "      <td>0</td>\n",
       "      <td>1</td>\n",
       "      <td>1</td>\n",
       "      <td>2012-03-25</td>\n",
       "      <td>Nasty No flavor</td>\n",
       "      <td>The candy is just red , No flavor . Just  plan...</td>\n",
       "    </tr>\n",
       "    <tr>\n",
       "      <th>27</th>\n",
       "      <td>28</td>\n",
       "      <td>B001GVISJM</td>\n",
       "      <td>AAAS38B98HMIK</td>\n",
       "      <td>Heather Dube</td>\n",
       "      <td>0</td>\n",
       "      <td>1</td>\n",
       "      <td>4</td>\n",
       "      <td>2012-03-16</td>\n",
       "      <td>Great Bargain for the Price</td>\n",
       "      <td>I was so glad Amazon carried these batteries. ...</td>\n",
       "    </tr>\n",
       "    <tr>\n",
       "      <th>31</th>\n",
       "      <td>32</td>\n",
       "      <td>B003F6UO7K</td>\n",
       "      <td>A31OQO709M20Y7</td>\n",
       "      <td>Molly V. Smith \"staral\"</td>\n",
       "      <td>0</td>\n",
       "      <td>1</td>\n",
       "      <td>5</td>\n",
       "      <td>2010-10-29</td>\n",
       "      <td>THIS IS MY TASTE...</td>\n",
       "      <td>This offer is a great price and a great taste,...</td>\n",
       "    </tr>\n",
       "  </tbody>\n",
       "</table>\n",
       "</div>"
      ],
      "text/plain": [
       "    Id   ProductId          UserId              ProfileName  \\\n",
       "14  15  B001GVISJM  A2MUGFV2TDQ47K      Lynrie \"Oh HELL no\"   \n",
       "15  16  B001GVISJM  A1CZX3CP8IKQIJ             Brian A. Lee   \n",
       "26  27  B001GVISJM  A3RXAU2N8KV45G                   lady21   \n",
       "27  28  B001GVISJM   AAAS38B98HMIK             Heather Dube   \n",
       "31  32  B003F6UO7K  A31OQO709M20Y7  Molly V. Smith \"staral\"   \n",
       "\n",
       "    HelpfulnessNumerator  HelpfulnessDenominator  Score       Time  \\\n",
       "14                     4                       5      5 2010-03-12   \n",
       "15                     4                       5      5 2009-12-29   \n",
       "26                     0                       1      1 2012-03-25   \n",
       "27                     0                       1      4 2012-03-16   \n",
       "31                     0                       1      5 2010-10-29   \n",
       "\n",
       "                                     Summary  \\\n",
       "14              Strawberry Twizzlers - Yummy   \n",
       "15  Lots of twizzlers, just what you expect.   \n",
       "26                           Nasty No flavor   \n",
       "27               Great Bargain for the Price   \n",
       "31                       THIS IS MY TASTE...   \n",
       "\n",
       "                                                 Text  \n",
       "14  The Strawberry Twizzlers are my guilty pleasur...  \n",
       "15  My daughter loves twizzlers and this shipment ...  \n",
       "26  The candy is just red , No flavor . Just  plan...  \n",
       "27  I was so glad Amazon carried these batteries. ...  \n",
       "31  This offer is a great price and a great taste,...  "
      ]
     },
     "execution_count": 50,
     "metadata": {},
     "output_type": "execute_result"
    }
   ],
   "source": [
    "data.head()"
   ]
  },
  {
   "cell_type": "code",
   "execution_count": 51,
   "id": "d1230413",
   "metadata": {},
   "outputs": [],
   "source": [
    "data['viewer_type'] = data['UserId'].apply(lambda user : \"Frequent\" if x[user] > 20 else \"Not Frequent\")"
   ]
  },
  {
   "cell_type": "code",
   "execution_count": 52,
   "id": "ba254365",
   "metadata": {},
   "outputs": [
    {
     "data": {
      "text/plain": [
       "array(['Frequent', 'Not Frequent'], dtype=object)"
      ]
     },
     "execution_count": 52,
     "metadata": {},
     "output_type": "execute_result"
    }
   ],
   "source": [
    "data['viewer_type'].unique()"
   ]
  },
  {
   "cell_type": "code",
   "execution_count": 53,
   "id": "369a873c",
   "metadata": {},
   "outputs": [
    {
     "data": {
      "text/plain": [
       "14        False\n",
       "15         True\n",
       "26         True\n",
       "27         True\n",
       "31         True\n",
       "          ...  \n",
       "568384     True\n",
       "568405     True\n",
       "568417     True\n",
       "568435     True\n",
       "568439     True\n",
       "Name: viewer_type, Length: 78220, dtype: bool"
      ]
     },
     "execution_count": 53,
     "metadata": {},
     "output_type": "execute_result"
    }
   ],
   "source": [
    "data['viewer_type']==\"Not Frequent\""
   ]
  },
  {
   "cell_type": "code",
   "execution_count": 54,
   "id": "70a6a05f",
   "metadata": {},
   "outputs": [],
   "source": [
    "not_freq_data = data[data['viewer_type']==\"Not Frequent\"]"
   ]
  },
  {
   "cell_type": "code",
   "execution_count": 55,
   "id": "d5804745",
   "metadata": {},
   "outputs": [
    {
     "data": {
      "text/html": [
       "<div>\n",
       "<style scoped>\n",
       "    .dataframe tbody tr th:only-of-type {\n",
       "        vertical-align: middle;\n",
       "    }\n",
       "\n",
       "    .dataframe tbody tr th {\n",
       "        vertical-align: top;\n",
       "    }\n",
       "\n",
       "    .dataframe thead th {\n",
       "        text-align: right;\n",
       "    }\n",
       "</style>\n",
       "<table border=\"1\" class=\"dataframe\">\n",
       "  <thead>\n",
       "    <tr style=\"text-align: right;\">\n",
       "      <th></th>\n",
       "      <th>Id</th>\n",
       "      <th>ProductId</th>\n",
       "      <th>UserId</th>\n",
       "      <th>ProfileName</th>\n",
       "      <th>HelpfulnessNumerator</th>\n",
       "      <th>HelpfulnessDenominator</th>\n",
       "      <th>Score</th>\n",
       "      <th>Time</th>\n",
       "      <th>Summary</th>\n",
       "      <th>Text</th>\n",
       "      <th>viewer_type</th>\n",
       "    </tr>\n",
       "  </thead>\n",
       "  <tbody>\n",
       "    <tr>\n",
       "      <th>15</th>\n",
       "      <td>16</td>\n",
       "      <td>B001GVISJM</td>\n",
       "      <td>A1CZX3CP8IKQIJ</td>\n",
       "      <td>Brian A. Lee</td>\n",
       "      <td>4</td>\n",
       "      <td>5</td>\n",
       "      <td>5</td>\n",
       "      <td>2009-12-29</td>\n",
       "      <td>Lots of twizzlers, just what you expect.</td>\n",
       "      <td>My daughter loves twizzlers and this shipment ...</td>\n",
       "      <td>Not Frequent</td>\n",
       "    </tr>\n",
       "    <tr>\n",
       "      <th>26</th>\n",
       "      <td>27</td>\n",
       "      <td>B001GVISJM</td>\n",
       "      <td>A3RXAU2N8KV45G</td>\n",
       "      <td>lady21</td>\n",
       "      <td>0</td>\n",
       "      <td>1</td>\n",
       "      <td>1</td>\n",
       "      <td>2012-03-25</td>\n",
       "      <td>Nasty No flavor</td>\n",
       "      <td>The candy is just red , No flavor . Just  plan...</td>\n",
       "      <td>Not Frequent</td>\n",
       "    </tr>\n",
       "    <tr>\n",
       "      <th>27</th>\n",
       "      <td>28</td>\n",
       "      <td>B001GVISJM</td>\n",
       "      <td>AAAS38B98HMIK</td>\n",
       "      <td>Heather Dube</td>\n",
       "      <td>0</td>\n",
       "      <td>1</td>\n",
       "      <td>4</td>\n",
       "      <td>2012-03-16</td>\n",
       "      <td>Great Bargain for the Price</td>\n",
       "      <td>I was so glad Amazon carried these batteries. ...</td>\n",
       "      <td>Not Frequent</td>\n",
       "    </tr>\n",
       "    <tr>\n",
       "      <th>31</th>\n",
       "      <td>32</td>\n",
       "      <td>B003F6UO7K</td>\n",
       "      <td>A31OQO709M20Y7</td>\n",
       "      <td>Molly V. Smith \"staral\"</td>\n",
       "      <td>0</td>\n",
       "      <td>1</td>\n",
       "      <td>5</td>\n",
       "      <td>2010-10-29</td>\n",
       "      <td>THIS IS MY TASTE...</td>\n",
       "      <td>This offer is a great price and a great taste,...</td>\n",
       "      <td>Not Frequent</td>\n",
       "    </tr>\n",
       "    <tr>\n",
       "      <th>47</th>\n",
       "      <td>48</td>\n",
       "      <td>B001EO5QW8</td>\n",
       "      <td>A26AY1TFK8BQXQ</td>\n",
       "      <td>kbogo \"shoelover\"</td>\n",
       "      <td>1</td>\n",
       "      <td>2</td>\n",
       "      <td>3</td>\n",
       "      <td>2008-01-12</td>\n",
       "      <td>Mushy</td>\n",
       "      <td>The flavors are good.  However, I do not see a...</td>\n",
       "      <td>Not Frequent</td>\n",
       "    </tr>\n",
       "  </tbody>\n",
       "</table>\n",
       "</div>"
      ],
      "text/plain": [
       "    Id   ProductId          UserId              ProfileName  \\\n",
       "15  16  B001GVISJM  A1CZX3CP8IKQIJ             Brian A. Lee   \n",
       "26  27  B001GVISJM  A3RXAU2N8KV45G                   lady21   \n",
       "27  28  B001GVISJM   AAAS38B98HMIK             Heather Dube   \n",
       "31  32  B003F6UO7K  A31OQO709M20Y7  Molly V. Smith \"staral\"   \n",
       "47  48  B001EO5QW8  A26AY1TFK8BQXQ        kbogo \"shoelover\"   \n",
       "\n",
       "    HelpfulnessNumerator  HelpfulnessDenominator  Score       Time  \\\n",
       "15                     4                       5      5 2009-12-29   \n",
       "26                     0                       1      1 2012-03-25   \n",
       "27                     0                       1      4 2012-03-16   \n",
       "31                     0                       1      5 2010-10-29   \n",
       "47                     1                       2      3 2008-01-12   \n",
       "\n",
       "                                     Summary  \\\n",
       "15  Lots of twizzlers, just what you expect.   \n",
       "26                           Nasty No flavor   \n",
       "27               Great Bargain for the Price   \n",
       "31                       THIS IS MY TASTE...   \n",
       "47                                     Mushy   \n",
       "\n",
       "                                                 Text   viewer_type  \n",
       "15  My daughter loves twizzlers and this shipment ...  Not Frequent  \n",
       "26  The candy is just red , No flavor . Just  plan...  Not Frequent  \n",
       "27  I was so glad Amazon carried these batteries. ...  Not Frequent  \n",
       "31  This offer is a great price and a great taste,...  Not Frequent  \n",
       "47  The flavors are good.  However, I do not see a...  Not Frequent  "
      ]
     },
     "execution_count": 55,
     "metadata": {},
     "output_type": "execute_result"
    }
   ],
   "source": [
    "not_freq_data.head()"
   ]
  },
  {
   "cell_type": "code",
   "execution_count": 56,
   "id": "5d064bd5",
   "metadata": {},
   "outputs": [],
   "source": [
    "freq_data = data[data['viewer_type']==\"Frequent\"]"
   ]
  },
  {
   "cell_type": "code",
   "execution_count": 57,
   "id": "f2ba1264",
   "metadata": {},
   "outputs": [
    {
     "data": {
      "text/html": [
       "<div>\n",
       "<style scoped>\n",
       "    .dataframe tbody tr th:only-of-type {\n",
       "        vertical-align: middle;\n",
       "    }\n",
       "\n",
       "    .dataframe tbody tr th {\n",
       "        vertical-align: top;\n",
       "    }\n",
       "\n",
       "    .dataframe thead th {\n",
       "        text-align: right;\n",
       "    }\n",
       "</style>\n",
       "<table border=\"1\" class=\"dataframe\">\n",
       "  <thead>\n",
       "    <tr style=\"text-align: right;\">\n",
       "      <th></th>\n",
       "      <th>Id</th>\n",
       "      <th>ProductId</th>\n",
       "      <th>UserId</th>\n",
       "      <th>ProfileName</th>\n",
       "      <th>HelpfulnessNumerator</th>\n",
       "      <th>HelpfulnessDenominator</th>\n",
       "      <th>Score</th>\n",
       "      <th>Time</th>\n",
       "      <th>Summary</th>\n",
       "      <th>Text</th>\n",
       "      <th>viewer_type</th>\n",
       "    </tr>\n",
       "  </thead>\n",
       "  <tbody>\n",
       "    <tr>\n",
       "      <th>14</th>\n",
       "      <td>15</td>\n",
       "      <td>B001GVISJM</td>\n",
       "      <td>A2MUGFV2TDQ47K</td>\n",
       "      <td>Lynrie \"Oh HELL no\"</td>\n",
       "      <td>4</td>\n",
       "      <td>5</td>\n",
       "      <td>5</td>\n",
       "      <td>2010-03-12</td>\n",
       "      <td>Strawberry Twizzlers - Yummy</td>\n",
       "      <td>The Strawberry Twizzlers are my guilty pleasur...</td>\n",
       "      <td>Frequent</td>\n",
       "    </tr>\n",
       "    <tr>\n",
       "      <th>285</th>\n",
       "      <td>286</td>\n",
       "      <td>B000H13270</td>\n",
       "      <td>A1YLOZQKBX3J1S</td>\n",
       "      <td>R. Lee Dailey \"Lee_Dailey\"</td>\n",
       "      <td>1</td>\n",
       "      <td>4</td>\n",
       "      <td>3</td>\n",
       "      <td>2008-09-12</td>\n",
       "      <td>too expensive</td>\n",
       "      <td>howdy y'all,&lt;br /&gt;&lt;br /&gt;the actual product is ...</td>\n",
       "      <td>Frequent</td>\n",
       "    </tr>\n",
       "    <tr>\n",
       "      <th>539</th>\n",
       "      <td>540</td>\n",
       "      <td>B000G6RYNE</td>\n",
       "      <td>A2A1XYSB692L6J</td>\n",
       "      <td>Patricia \"A Reader\"</td>\n",
       "      <td>1</td>\n",
       "      <td>3</td>\n",
       "      <td>5</td>\n",
       "      <td>2011-06-26</td>\n",
       "      <td>C H I P.....C H I P.....H O O R A Y....!!!!!  ...</td>\n",
       "      <td>I was getting VERY worried, when I read some o...</td>\n",
       "      <td>Frequent</td>\n",
       "    </tr>\n",
       "    <tr>\n",
       "      <th>565</th>\n",
       "      <td>566</td>\n",
       "      <td>B000G6RYNE</td>\n",
       "      <td>ADS5APY1NKTL4</td>\n",
       "      <td>D. Pawl \"Dani\"</td>\n",
       "      <td>7</td>\n",
       "      <td>9</td>\n",
       "      <td>5</td>\n",
       "      <td>2007-03-28</td>\n",
       "      <td>great (hot) new flavor....</td>\n",
       "      <td>I am a great fan of potato chips and of Thai f...</td>\n",
       "      <td>Frequent</td>\n",
       "    </tr>\n",
       "    <tr>\n",
       "      <th>622</th>\n",
       "      <td>623</td>\n",
       "      <td>B000G6RYNE</td>\n",
       "      <td>ADS5APY1NKTL4</td>\n",
       "      <td>D. Pawl \"Dani\"</td>\n",
       "      <td>5</td>\n",
       "      <td>7</td>\n",
       "      <td>5</td>\n",
       "      <td>2007-03-28</td>\n",
       "      <td>these potato chips are yummy....</td>\n",
       "      <td>I try to be good, but when I feel like indulgi...</td>\n",
       "      <td>Frequent</td>\n",
       "    </tr>\n",
       "    <tr>\n",
       "      <th>...</th>\n",
       "      <td>...</td>\n",
       "      <td>...</td>\n",
       "      <td>...</td>\n",
       "      <td>...</td>\n",
       "      <td>...</td>\n",
       "      <td>...</td>\n",
       "      <td>...</td>\n",
       "      <td>...</td>\n",
       "      <td>...</td>\n",
       "      <td>...</td>\n",
       "      <td>...</td>\n",
       "    </tr>\n",
       "    <tr>\n",
       "      <th>564741</th>\n",
       "      <td>564742</td>\n",
       "      <td>B005SPH780</td>\n",
       "      <td>A175N19FS2B4J</td>\n",
       "      <td>Lisa M. Mims</td>\n",
       "      <td>1</td>\n",
       "      <td>6</td>\n",
       "      <td>4</td>\n",
       "      <td>2011-12-02</td>\n",
       "      <td>Maybe a Little Too Earthy, Even for the Crunch...</td>\n",
       "      <td>For the record, I'm in Austin.  I have long ha...</td>\n",
       "      <td>Frequent</td>\n",
       "    </tr>\n",
       "    <tr>\n",
       "      <th>565065</th>\n",
       "      <td>565066</td>\n",
       "      <td>B001D6KXSY</td>\n",
       "      <td>A2M9D9BDHONV3Y</td>\n",
       "      <td>A. Bennett</td>\n",
       "      <td>0</td>\n",
       "      <td>2</td>\n",
       "      <td>1</td>\n",
       "      <td>2009-06-23</td>\n",
       "      <td>I was really disappointed with this treat!</td>\n",
       "      <td>It's advertised as \"I Mei Choco Roll, Pudding\"...</td>\n",
       "      <td>Frequent</td>\n",
       "    </tr>\n",
       "    <tr>\n",
       "      <th>566650</th>\n",
       "      <td>566651</td>\n",
       "      <td>B0005ZXX1S</td>\n",
       "      <td>A3D6TFYRMIV3ZL</td>\n",
       "      <td>Themis-Athena</td>\n",
       "      <td>11</td>\n",
       "      <td>12</td>\n",
       "      <td>5</td>\n",
       "      <td>2004-12-04</td>\n",
       "      <td>The Original.</td>\n",
       "      <td>Earl Grey is my favorite blend of tea by far -...</td>\n",
       "      <td>Frequent</td>\n",
       "    </tr>\n",
       "    <tr>\n",
       "      <th>567138</th>\n",
       "      <td>567139</td>\n",
       "      <td>B0000D9MYO</td>\n",
       "      <td>A17V9XL4CWTQ6G</td>\n",
       "      <td>Chandler</td>\n",
       "      <td>2</td>\n",
       "      <td>3</td>\n",
       "      <td>4</td>\n",
       "      <td>2012-02-22</td>\n",
       "      <td>I adore it but I'm pretty sure it has some oli...</td>\n",
       "      <td>First of all, this will change how you cook if...</td>\n",
       "      <td>Frequent</td>\n",
       "    </tr>\n",
       "    <tr>\n",
       "      <th>568249</th>\n",
       "      <td>568250</td>\n",
       "      <td>B00374ZKQ0</td>\n",
       "      <td>A17V9XL4CWTQ6G</td>\n",
       "      <td>Chandler</td>\n",
       "      <td>38</td>\n",
       "      <td>45</td>\n",
       "      <td>1</td>\n",
       "      <td>2011-11-02</td>\n",
       "      <td>You'll need 3 packs to equal one pack of Truvi...</td>\n",
       "      <td>First of all, I have no ties with Truvia. In f...</td>\n",
       "      <td>Frequent</td>\n",
       "    </tr>\n",
       "  </tbody>\n",
       "</table>\n",
       "<p>1064 rows × 11 columns</p>\n",
       "</div>"
      ],
      "text/plain": [
       "            Id   ProductId          UserId                 ProfileName  \\\n",
       "14          15  B001GVISJM  A2MUGFV2TDQ47K         Lynrie \"Oh HELL no\"   \n",
       "285        286  B000H13270  A1YLOZQKBX3J1S  R. Lee Dailey \"Lee_Dailey\"   \n",
       "539        540  B000G6RYNE  A2A1XYSB692L6J         Patricia \"A Reader\"   \n",
       "565        566  B000G6RYNE   ADS5APY1NKTL4              D. Pawl \"Dani\"   \n",
       "622        623  B000G6RYNE   ADS5APY1NKTL4              D. Pawl \"Dani\"   \n",
       "...        ...         ...             ...                         ...   \n",
       "564741  564742  B005SPH780   A175N19FS2B4J                Lisa M. Mims   \n",
       "565065  565066  B001D6KXSY  A2M9D9BDHONV3Y                  A. Bennett   \n",
       "566650  566651  B0005ZXX1S  A3D6TFYRMIV3ZL               Themis-Athena   \n",
       "567138  567139  B0000D9MYO  A17V9XL4CWTQ6G                    Chandler   \n",
       "568249  568250  B00374ZKQ0  A17V9XL4CWTQ6G                    Chandler   \n",
       "\n",
       "        HelpfulnessNumerator  HelpfulnessDenominator  Score       Time  \\\n",
       "14                         4                       5      5 2010-03-12   \n",
       "285                        1                       4      3 2008-09-12   \n",
       "539                        1                       3      5 2011-06-26   \n",
       "565                        7                       9      5 2007-03-28   \n",
       "622                        5                       7      5 2007-03-28   \n",
       "...                      ...                     ...    ...        ...   \n",
       "564741                     1                       6      4 2011-12-02   \n",
       "565065                     0                       2      1 2009-06-23   \n",
       "566650                    11                      12      5 2004-12-04   \n",
       "567138                     2                       3      4 2012-02-22   \n",
       "568249                    38                      45      1 2011-11-02   \n",
       "\n",
       "                                                  Summary  \\\n",
       "14                           Strawberry Twizzlers - Yummy   \n",
       "285                                         too expensive   \n",
       "539     C H I P.....C H I P.....H O O R A Y....!!!!!  ...   \n",
       "565                            great (hot) new flavor....   \n",
       "622                      these potato chips are yummy....   \n",
       "...                                                   ...   \n",
       "564741  Maybe a Little Too Earthy, Even for the Crunch...   \n",
       "565065         I was really disappointed with this treat!   \n",
       "566650                                      The Original.   \n",
       "567138  I adore it but I'm pretty sure it has some oli...   \n",
       "568249  You'll need 3 packs to equal one pack of Truvi...   \n",
       "\n",
       "                                                     Text viewer_type  \n",
       "14      The Strawberry Twizzlers are my guilty pleasur...    Frequent  \n",
       "285     howdy y'all,<br /><br />the actual product is ...    Frequent  \n",
       "539     I was getting VERY worried, when I read some o...    Frequent  \n",
       "565     I am a great fan of potato chips and of Thai f...    Frequent  \n",
       "622     I try to be good, but when I feel like indulgi...    Frequent  \n",
       "...                                                   ...         ...  \n",
       "564741  For the record, I'm in Austin.  I have long ha...    Frequent  \n",
       "565065  It's advertised as \"I Mei Choco Roll, Pudding\"...    Frequent  \n",
       "566650  Earl Grey is my favorite blend of tea by far -...    Frequent  \n",
       "567138  First of all, this will change how you cook if...    Frequent  \n",
       "568249  First of all, I have no ties with Truvia. In f...    Frequent  \n",
       "\n",
       "[1064 rows x 11 columns]"
      ]
     },
     "execution_count": 57,
     "metadata": {},
     "output_type": "execute_result"
    }
   ],
   "source": [
    "freq_data "
   ]
  },
  {
   "cell_type": "code",
   "execution_count": 58,
   "id": "f4eadfb4",
   "metadata": {},
   "outputs": [
    {
     "data": {
      "text/plain": [
       "<AxesSubplot:>"
      ]
     },
     "execution_count": 58,
     "metadata": {},
     "output_type": "execute_result"
    },
    {
     "data": {
      "image/png": "[encoded data removed]",
      "text/plain": [
       "<Figure size 432x288 with 1 Axes>"
      ]
     },
     "metadata": {
      "needs_background": "light"
     },
     "output_type": "display_data"
    }
   ],
   "source": [
    "freq_data['Score'].value_counts().plot(kind='bar')"
   ]
  },
  {
   "cell_type": "code",
   "execution_count": 59,
   "id": "87ee8043",
   "metadata": {},
   "outputs": [
    {
     "data": {
      "text/plain": [
       "5    51.973684\n",
       "4    17.575188\n",
       "3    13.533835\n",
       "1     9.774436\n",
       "2     7.142857\n",
       "Name: Score, dtype: float64"
      ]
     },
     "execution_count": 59,
     "metadata": {},
     "output_type": "execute_result"
    }
   ],
   "source": [
    "freq_data['Score'].value_counts()/len(freq_data)*100"
   ]
  },
  {
   "cell_type": "code",
   "execution_count": 60,
   "id": "07a712b9",
   "metadata": {},
   "outputs": [
    {
     "data": {
      "text/plain": [
       "5    39.177770\n",
       "1    25.219037\n",
       "3    12.391778\n",
       "4    11.969257\n",
       "2    11.242159\n",
       "Name: Score, dtype: float64"
      ]
     },
     "execution_count": 60,
     "metadata": {},
     "output_type": "execute_result"
    }
   ],
   "source": [
    "not_freq_data['Score'].value_counts()/len(not_freq_data)*100"
   ]
  },
  {
   "cell_type": "code",
   "execution_count": 61,
   "id": "f094417c",
   "metadata": {},
   "outputs": [
    {
     "data": {
      "text/plain": [
       "<AxesSubplot:>"
      ]
     },
     "execution_count": 61,
     "metadata": {},
     "output_type": "execute_result"
    },
    {
     "data": {
      "image/png": "[encoded data removed]",
      "text/plain": [
       "<Figure size 432x288 with 1 Axes>"
      ]
     },
     "metadata": {
      "needs_background": "light"
     },
     "output_type": "display_data"
    }
   ],
   "source": [
    "not_freq_data['Score'].value_counts().plot(kind='bar')"
   ]
  },
  {
   "cell_type": "code",
   "execution_count": 62,
   "id": "020285a1",
   "metadata": {},
   "outputs": [
    {
     "data": {
      "text/plain": [
       "Index(['Id', 'ProductId', 'UserId', 'ProfileName', 'HelpfulnessNumerator',\n",
       "       'HelpfulnessDenominator', 'Score', 'Time', 'Summary', 'Text',\n",
       "       'viewer_type'],\n",
       "      dtype='object')"
      ]
     },
     "execution_count": 62,
     "metadata": {},
     "output_type": "execute_result"
    }
   ],
   "source": [
    "data.columns"
   ]
  },
  {
   "cell_type": "markdown",
   "id": "4d547a5f",
   "metadata": {},
   "source": [
    "PERFORMING SENTIMENT ANALYSIS ON DATA"
   ]
  },
  {
   "cell_type": "code",
   "execution_count": 63,
   "id": "00b74e95",
   "metadata": {},
   "outputs": [
    {
     "data": {
      "text/plain": [
       "14        The Strawberry Twizzlers are my guilty pleasur...\n",
       "15        My daughter loves twizzlers and this shipment ...\n",
       "26        The candy is just red , No flavor . Just  plan...\n",
       "27        I was so glad Amazon carried these batteries. ...\n",
       "31        This offer is a great price and a great taste,...\n",
       "                                ...                        \n",
       "568384    Tasteless, bland, insipid - how many synonyms ...\n",
       "568405    The product arrived pretty quickly and was eas...\n",
       "568417    This is the best brand of Mango Chutney that I...\n",
       "568435    It is mostly broth, with the advertised 3/4 cu...\n",
       "568439    We need this for a recipe my wife is intereste...\n",
       "Name: Text, Length: 78220, dtype: object"
      ]
     },
     "execution_count": 63,
     "metadata": {},
     "output_type": "execute_result"
    }
   ],
   "source": [
    "data['Text']"
   ]
  },
  {
   "cell_type": "code",
   "execution_count": 64,
   "id": "83ad855c",
   "metadata": {},
   "outputs": [
    {
     "data": {
      "text/html": [
       "<div>\n",
       "<style scoped>\n",
       "    .dataframe tbody tr th:only-of-type {\n",
       "        vertical-align: middle;\n",
       "    }\n",
       "\n",
       "    .dataframe tbody tr th {\n",
       "        vertical-align: top;\n",
       "    }\n",
       "\n",
       "    .dataframe thead th {\n",
       "        text-align: right;\n",
       "    }\n",
       "</style>\n",
       "<table border=\"1\" class=\"dataframe\">\n",
       "  <thead>\n",
       "    <tr style=\"text-align: right;\">\n",
       "      <th></th>\n",
       "      <th>UserId</th>\n",
       "      <th>ProductId</th>\n",
       "      <th>Text</th>\n",
       "    </tr>\n",
       "  </thead>\n",
       "  <tbody>\n",
       "    <tr>\n",
       "      <th>14</th>\n",
       "      <td>A2MUGFV2TDQ47K</td>\n",
       "      <td>B001GVISJM</td>\n",
       "      <td>The Strawberry Twizzlers are my guilty pleasur...</td>\n",
       "    </tr>\n",
       "    <tr>\n",
       "      <th>15</th>\n",
       "      <td>A1CZX3CP8IKQIJ</td>\n",
       "      <td>B001GVISJM</td>\n",
       "      <td>My daughter loves twizzlers and this shipment ...</td>\n",
       "    </tr>\n",
       "    <tr>\n",
       "      <th>26</th>\n",
       "      <td>A3RXAU2N8KV45G</td>\n",
       "      <td>B001GVISJM</td>\n",
       "      <td>The candy is just red , No flavor . Just  plan...</td>\n",
       "    </tr>\n",
       "    <tr>\n",
       "      <th>27</th>\n",
       "      <td>AAAS38B98HMIK</td>\n",
       "      <td>B001GVISJM</td>\n",
       "      <td>I was so glad Amazon carried these batteries. ...</td>\n",
       "    </tr>\n",
       "    <tr>\n",
       "      <th>31</th>\n",
       "      <td>A31OQO709M20Y7</td>\n",
       "      <td>B003F6UO7K</td>\n",
       "      <td>This offer is a great price and a great taste,...</td>\n",
       "    </tr>\n",
       "    <tr>\n",
       "      <th>...</th>\n",
       "      <td>...</td>\n",
       "      <td>...</td>\n",
       "      <td>...</td>\n",
       "    </tr>\n",
       "    <tr>\n",
       "      <th>568384</th>\n",
       "      <td>A8T6W1M15FM75</td>\n",
       "      <td>B000H28ABW</td>\n",
       "      <td>Tasteless, bland, insipid - how many synonyms ...</td>\n",
       "    </tr>\n",
       "    <tr>\n",
       "      <th>568405</th>\n",
       "      <td>A2ZKNGL20FBK2I</td>\n",
       "      <td>B000P56I7Y</td>\n",
       "      <td>The product arrived pretty quickly and was eas...</td>\n",
       "    </tr>\n",
       "    <tr>\n",
       "      <th>568417</th>\n",
       "      <td>A1SOL9F0I9D3A4</td>\n",
       "      <td>B0000D16IP</td>\n",
       "      <td>This is the best brand of Mango Chutney that I...</td>\n",
       "    </tr>\n",
       "    <tr>\n",
       "      <th>568435</th>\n",
       "      <td>A2PSB4WQHH46HN</td>\n",
       "      <td>B003XUL27E</td>\n",
       "      <td>It is mostly broth, with the advertised 3/4 cu...</td>\n",
       "    </tr>\n",
       "    <tr>\n",
       "      <th>568439</th>\n",
       "      <td>A34GDV49ZZQKXG</td>\n",
       "      <td>B000NY4SAG</td>\n",
       "      <td>We need this for a recipe my wife is intereste...</td>\n",
       "    </tr>\n",
       "  </tbody>\n",
       "</table>\n",
       "<p>78220 rows × 3 columns</p>\n",
       "</div>"
      ],
      "text/plain": [
       "                UserId   ProductId  \\\n",
       "14      A2MUGFV2TDQ47K  B001GVISJM   \n",
       "15      A1CZX3CP8IKQIJ  B001GVISJM   \n",
       "26      A3RXAU2N8KV45G  B001GVISJM   \n",
       "27       AAAS38B98HMIK  B001GVISJM   \n",
       "31      A31OQO709M20Y7  B003F6UO7K   \n",
       "...                ...         ...   \n",
       "568384   A8T6W1M15FM75  B000H28ABW   \n",
       "568405  A2ZKNGL20FBK2I  B000P56I7Y   \n",
       "568417  A1SOL9F0I9D3A4  B0000D16IP   \n",
       "568435  A2PSB4WQHH46HN  B003XUL27E   \n",
       "568439  A34GDV49ZZQKXG  B000NY4SAG   \n",
       "\n",
       "                                                     Text  \n",
       "14      The Strawberry Twizzlers are my guilty pleasur...  \n",
       "15      My daughter loves twizzlers and this shipment ...  \n",
       "26      The candy is just red , No flavor . Just  plan...  \n",
       "27      I was so glad Amazon carried these batteries. ...  \n",
       "31      This offer is a great price and a great taste,...  \n",
       "...                                                   ...  \n",
       "568384  Tasteless, bland, insipid - how many synonyms ...  \n",
       "568405  The product arrived pretty quickly and was eas...  \n",
       "568417  This is the best brand of Mango Chutney that I...  \n",
       "568435  It is mostly broth, with the advertised 3/4 cu...  \n",
       "568439  We need this for a recipe my wife is intereste...  \n",
       "\n",
       "[78220 rows x 3 columns]"
      ]
     },
     "execution_count": 64,
     "metadata": {},
     "output_type": "execute_result"
    }
   ],
   "source": [
    "data[['UserId', 'ProductId' , 'Text']]"
   ]
  },
  {
   "cell_type": "code",
   "execution_count": 65,
   "id": "626946d0",
   "metadata": {},
   "outputs": [],
   "source": [
    "def calculate_length(text):\n",
    "    return len(text.split(' '))"
   ]
  },
  {
   "cell_type": "code",
   "execution_count": 66,
   "id": "a40cb76d",
   "metadata": {},
   "outputs": [],
   "source": [
    "data ['Text_Length'] = data['Text'].apply(calculate_length)"
   ]
  },
  {
   "cell_type": "code",
   "execution_count": 67,
   "id": "38c0072b",
   "metadata": {},
   "outputs": [],
   "source": [
    "not_freq_data = data[data['viewer_type']==\"Not Frequent\"]\n",
    "freq_data = data[data['viewer_type']==\"Frequent\"]"
   ]
  },
  {
   "cell_type": "code",
   "execution_count": 68,
   "id": "0dd64990",
   "metadata": {},
   "outputs": [
    {
     "data": {
      "text/html": [
       "<div>\n",
       "<style scoped>\n",
       "    .dataframe tbody tr th:only-of-type {\n",
       "        vertical-align: middle;\n",
       "    }\n",
       "\n",
       "    .dataframe tbody tr th {\n",
       "        vertical-align: top;\n",
       "    }\n",
       "\n",
       "    .dataframe thead th {\n",
       "        text-align: right;\n",
       "    }\n",
       "</style>\n",
       "<table border=\"1\" class=\"dataframe\">\n",
       "  <thead>\n",
       "    <tr style=\"text-align: right;\">\n",
       "      <th></th>\n",
       "      <th>Id</th>\n",
       "      <th>ProductId</th>\n",
       "      <th>UserId</th>\n",
       "      <th>ProfileName</th>\n",
       "      <th>HelpfulnessNumerator</th>\n",
       "      <th>HelpfulnessDenominator</th>\n",
       "      <th>Score</th>\n",
       "      <th>Time</th>\n",
       "      <th>Summary</th>\n",
       "      <th>Text</th>\n",
       "      <th>viewer_type</th>\n",
       "      <th>Text_Length</th>\n",
       "    </tr>\n",
       "  </thead>\n",
       "  <tbody>\n",
       "    <tr>\n",
       "      <th>15</th>\n",
       "      <td>16</td>\n",
       "      <td>B001GVISJM</td>\n",
       "      <td>A1CZX3CP8IKQIJ</td>\n",
       "      <td>Brian A. Lee</td>\n",
       "      <td>4</td>\n",
       "      <td>5</td>\n",
       "      <td>5</td>\n",
       "      <td>2009-12-29</td>\n",
       "      <td>Lots of twizzlers, just what you expect.</td>\n",
       "      <td>My daughter loves twizzlers and this shipment ...</td>\n",
       "      <td>Not Frequent</td>\n",
       "      <td>24</td>\n",
       "    </tr>\n",
       "    <tr>\n",
       "      <th>26</th>\n",
       "      <td>27</td>\n",
       "      <td>B001GVISJM</td>\n",
       "      <td>A3RXAU2N8KV45G</td>\n",
       "      <td>lady21</td>\n",
       "      <td>0</td>\n",
       "      <td>1</td>\n",
       "      <td>1</td>\n",
       "      <td>2012-03-25</td>\n",
       "      <td>Nasty No flavor</td>\n",
       "      <td>The candy is just red , No flavor . Just  plan...</td>\n",
       "      <td>Not Frequent</td>\n",
       "      <td>22</td>\n",
       "    </tr>\n",
       "    <tr>\n",
       "      <th>27</th>\n",
       "      <td>28</td>\n",
       "      <td>B001GVISJM</td>\n",
       "      <td>AAAS38B98HMIK</td>\n",
       "      <td>Heather Dube</td>\n",
       "      <td>0</td>\n",
       "      <td>1</td>\n",
       "      <td>4</td>\n",
       "      <td>2012-03-16</td>\n",
       "      <td>Great Bargain for the Price</td>\n",
       "      <td>I was so glad Amazon carried these batteries. ...</td>\n",
       "      <td>Not Frequent</td>\n",
       "      <td>38</td>\n",
       "    </tr>\n",
       "    <tr>\n",
       "      <th>31</th>\n",
       "      <td>32</td>\n",
       "      <td>B003F6UO7K</td>\n",
       "      <td>A31OQO709M20Y7</td>\n",
       "      <td>Molly V. Smith \"staral\"</td>\n",
       "      <td>0</td>\n",
       "      <td>1</td>\n",
       "      <td>5</td>\n",
       "      <td>2010-10-29</td>\n",
       "      <td>THIS IS MY TASTE...</td>\n",
       "      <td>This offer is a great price and a great taste,...</td>\n",
       "      <td>Not Frequent</td>\n",
       "      <td>18</td>\n",
       "    </tr>\n",
       "    <tr>\n",
       "      <th>47</th>\n",
       "      <td>48</td>\n",
       "      <td>B001EO5QW8</td>\n",
       "      <td>A26AY1TFK8BQXQ</td>\n",
       "      <td>kbogo \"shoelover\"</td>\n",
       "      <td>1</td>\n",
       "      <td>2</td>\n",
       "      <td>3</td>\n",
       "      <td>2008-01-12</td>\n",
       "      <td>Mushy</td>\n",
       "      <td>The flavors are good.  However, I do not see a...</td>\n",
       "      <td>Not Frequent</td>\n",
       "      <td>23</td>\n",
       "    </tr>\n",
       "    <tr>\n",
       "      <th>...</th>\n",
       "      <td>...</td>\n",
       "      <td>...</td>\n",
       "      <td>...</td>\n",
       "      <td>...</td>\n",
       "      <td>...</td>\n",
       "      <td>...</td>\n",
       "      <td>...</td>\n",
       "      <td>...</td>\n",
       "      <td>...</td>\n",
       "      <td>...</td>\n",
       "      <td>...</td>\n",
       "      <td>...</td>\n",
       "    </tr>\n",
       "    <tr>\n",
       "      <th>568384</th>\n",
       "      <td>568385</td>\n",
       "      <td>B000H28ABW</td>\n",
       "      <td>A8T6W1M15FM75</td>\n",
       "      <td>CA-SK \"CLA\"</td>\n",
       "      <td>0</td>\n",
       "      <td>3</td>\n",
       "      <td>2</td>\n",
       "      <td>2009-10-11</td>\n",
       "      <td>Bland Taco Seasoning</td>\n",
       "      <td>Tasteless, bland, insipid - how many synonyms ...</td>\n",
       "      <td>Not Frequent</td>\n",
       "      <td>30</td>\n",
       "    </tr>\n",
       "    <tr>\n",
       "      <th>568405</th>\n",
       "      <td>568406</td>\n",
       "      <td>B000P56I7Y</td>\n",
       "      <td>A2ZKNGL20FBK2I</td>\n",
       "      <td>Shatzi Crabtree</td>\n",
       "      <td>3</td>\n",
       "      <td>5</td>\n",
       "      <td>5</td>\n",
       "      <td>2010-05-27</td>\n",
       "      <td>Arrived Fine</td>\n",
       "      <td>The product arrived pretty quickly and was eas...</td>\n",
       "      <td>Not Frequent</td>\n",
       "      <td>29</td>\n",
       "    </tr>\n",
       "    <tr>\n",
       "      <th>568417</th>\n",
       "      <td>568418</td>\n",
       "      <td>B0000D16IP</td>\n",
       "      <td>A1SOL9F0I9D3A4</td>\n",
       "      <td>William M. Jacobs</td>\n",
       "      <td>2</td>\n",
       "      <td>4</td>\n",
       "      <td>4</td>\n",
       "      <td>2009-11-11</td>\n",
       "      <td>Great</td>\n",
       "      <td>This is the best brand of Mango Chutney that I...</td>\n",
       "      <td>Not Frequent</td>\n",
       "      <td>17</td>\n",
       "    </tr>\n",
       "    <tr>\n",
       "      <th>568435</th>\n",
       "      <td>568436</td>\n",
       "      <td>B003XUL27E</td>\n",
       "      <td>A2PSB4WQHH46HN</td>\n",
       "      <td>carlyowu</td>\n",
       "      <td>0</td>\n",
       "      <td>2</td>\n",
       "      <td>2</td>\n",
       "      <td>2010-09-29</td>\n",
       "      <td>Where's the tortellini?</td>\n",
       "      <td>It is mostly broth, with the advertised 3/4 cu...</td>\n",
       "      <td>Not Frequent</td>\n",
       "      <td>60</td>\n",
       "    </tr>\n",
       "    <tr>\n",
       "      <th>568439</th>\n",
       "      <td>568440</td>\n",
       "      <td>B000NY4SAG</td>\n",
       "      <td>A34GDV49ZZQKXG</td>\n",
       "      <td>Donald M. Cook</td>\n",
       "      <td>0</td>\n",
       "      <td>5</td>\n",
       "      <td>4</td>\n",
       "      <td>2010-07-26</td>\n",
       "      <td>a-ok</td>\n",
       "      <td>We need this for a recipe my wife is intereste...</td>\n",
       "      <td>Not Frequent</td>\n",
       "      <td>23</td>\n",
       "    </tr>\n",
       "  </tbody>\n",
       "</table>\n",
       "<p>77156 rows × 12 columns</p>\n",
       "</div>"
      ],
      "text/plain": [
       "            Id   ProductId          UserId              ProfileName  \\\n",
       "15          16  B001GVISJM  A1CZX3CP8IKQIJ             Brian A. Lee   \n",
       "26          27  B001GVISJM  A3RXAU2N8KV45G                   lady21   \n",
       "27          28  B001GVISJM   AAAS38B98HMIK             Heather Dube   \n",
       "31          32  B003F6UO7K  A31OQO709M20Y7  Molly V. Smith \"staral\"   \n",
       "47          48  B001EO5QW8  A26AY1TFK8BQXQ        kbogo \"shoelover\"   \n",
       "...        ...         ...             ...                      ...   \n",
       "568384  568385  B000H28ABW   A8T6W1M15FM75              CA-SK \"CLA\"   \n",
       "568405  568406  B000P56I7Y  A2ZKNGL20FBK2I          Shatzi Crabtree   \n",
       "568417  568418  B0000D16IP  A1SOL9F0I9D3A4        William M. Jacobs   \n",
       "568435  568436  B003XUL27E  A2PSB4WQHH46HN                 carlyowu   \n",
       "568439  568440  B000NY4SAG  A34GDV49ZZQKXG           Donald M. Cook   \n",
       "\n",
       "        HelpfulnessNumerator  HelpfulnessDenominator  Score       Time  \\\n",
       "15                         4                       5      5 2009-12-29   \n",
       "26                         0                       1      1 2012-03-25   \n",
       "27                         0                       1      4 2012-03-16   \n",
       "31                         0                       1      5 2010-10-29   \n",
       "47                         1                       2      3 2008-01-12   \n",
       "...                      ...                     ...    ...        ...   \n",
       "568384                     0                       3      2 2009-10-11   \n",
       "568405                     3                       5      5 2010-05-27   \n",
       "568417                     2                       4      4 2009-11-11   \n",
       "568435                     0                       2      2 2010-09-29   \n",
       "568439                     0                       5      4 2010-07-26   \n",
       "\n",
       "                                         Summary  \\\n",
       "15      Lots of twizzlers, just what you expect.   \n",
       "26                               Nasty No flavor   \n",
       "27                   Great Bargain for the Price   \n",
       "31                           THIS IS MY TASTE...   \n",
       "47                                         Mushy   \n",
       "...                                          ...   \n",
       "568384                      Bland Taco Seasoning   \n",
       "568405                              Arrived Fine   \n",
       "568417                                     Great   \n",
       "568435                   Where's the tortellini?   \n",
       "568439                                      a-ok   \n",
       "\n",
       "                                                     Text   viewer_type  \\\n",
       "15      My daughter loves twizzlers and this shipment ...  Not Frequent   \n",
       "26      The candy is just red , No flavor . Just  plan...  Not Frequent   \n",
       "27      I was so glad Amazon carried these batteries. ...  Not Frequent   \n",
       "31      This offer is a great price and a great taste,...  Not Frequent   \n",
       "47      The flavors are good.  However, I do not see a...  Not Frequent   \n",
       "...                                                   ...           ...   \n",
       "568384  Tasteless, bland, insipid - how many synonyms ...  Not Frequent   \n",
       "568405  The product arrived pretty quickly and was eas...  Not Frequent   \n",
       "568417  This is the best brand of Mango Chutney that I...  Not Frequent   \n",
       "568435  It is mostly broth, with the advertised 3/4 cu...  Not Frequent   \n",
       "568439  We need this for a recipe my wife is intereste...  Not Frequent   \n",
       "\n",
       "        Text_Length  \n",
       "15               24  \n",
       "26               22  \n",
       "27               38  \n",
       "31               18  \n",
       "47               23  \n",
       "...             ...  \n",
       "568384           30  \n",
       "568405           29  \n",
       "568417           17  \n",
       "568435           60  \n",
       "568439           23  \n",
       "\n",
       "[77156 rows x 12 columns]"
      ]
     },
     "execution_count": 68,
     "metadata": {},
     "output_type": "execute_result"
    }
   ],
   "source": [
    "not_freq_data"
   ]
  },
  {
   "cell_type": "code",
   "execution_count": 69,
   "id": "06c6eec1",
   "metadata": {},
   "outputs": [
    {
     "data": {
      "text/plain": [
       "Text(0.5, 0, 'Freq of not-freq reviewers')"
      ]
     },
     "execution_count": 69,
     "metadata": {},
     "output_type": "execute_result"
    },
    {
     "data": {
      "image/png": "[encoded data removed]",
      "text/plain": [
       "<Figure size 432x288 with 2 Axes>"
      ]
     },
     "metadata": {
      "needs_background": "light"
     },
     "output_type": "display_data"
    }
   ],
   "source": [
    "fig = plt.figure()\n",
    "\n",
    "ax1= fig.add_subplot(121)\n",
    "ax1.boxplot(freq_data['Text_Length'])\n",
    "ax1.set_xlabel('Freq of freq reviewers')\n",
    "ax1.set_ylim(0,600)\n",
    "\n",
    "ax2= fig.add_subplot(122)\n",
    "ax2.boxplot(freq_data['Text_Length'])\n",
    "ax2.set_xlabel('Freq of not-freq reviewers')"
   ]
  },
  {
   "cell_type": "code",
   "execution_count": 70,
   "id": "a96e321f",
   "metadata": {},
   "outputs": [
    {
     "name": "stdout",
     "output_type": "stream",
     "text": [
      "Requirement already satisfied: textblob in c:\\users\\home\\onedrive\\documents\\zoom\\lib\\site-packages (0.17.1)\n",
      "Requirement already satisfied: nltk>=3.1 in c:\\users\\home\\onedrive\\documents\\zoom\\lib\\site-packages (from textblob) (3.7)\n",
      "Requirement already satisfied: tqdm in c:\\users\\home\\onedrive\\documents\\zoom\\lib\\site-packages (from nltk>=3.1->textblob) (4.64.0)\n",
      "Requirement already satisfied: joblib in c:\\users\\home\\onedrive\\documents\\zoom\\lib\\site-packages (from nltk>=3.1->textblob) (1.1.0)\n",
      "Requirement already satisfied: click in c:\\users\\home\\onedrive\\documents\\zoom\\lib\\site-packages (from nltk>=3.1->textblob) (8.0.4)\n",
      "Requirement already satisfied: regex>=2021.8.3 in c:\\users\\home\\onedrive\\documents\\zoom\\lib\\site-packages (from nltk>=3.1->textblob) (2022.3.15)\n",
      "Requirement already satisfied: colorama in c:\\users\\home\\onedrive\\documents\\zoom\\lib\\site-packages (from click->nltk>=3.1->textblob) (0.4.4)\n"
     ]
    }
   ],
   "source": [
    "!pip install textblob"
   ]
  },
  {
   "cell_type": "code",
   "execution_count": 71,
   "id": "36dbfbc4",
   "metadata": {},
   "outputs": [],
   "source": [
    "from textblob import TextBlob"
   ]
  },
  {
   "cell_type": "code",
   "execution_count": 72,
   "id": "7ad7c251",
   "metadata": {},
   "outputs": [
    {
     "data": {
      "text/plain": [
       "14                    Strawberry Twizzlers - Yummy\n",
       "15        Lots of twizzlers, just what you expect.\n",
       "26                                 Nasty No flavor\n",
       "27                     Great Bargain for the Price\n",
       "31                             THIS IS MY TASTE...\n",
       "                            ...                   \n",
       "568384                        Bland Taco Seasoning\n",
       "568405                                Arrived Fine\n",
       "568417                                       Great\n",
       "568435                     Where's the tortellini?\n",
       "568439                                        a-ok\n",
       "Name: Summary, Length: 78220, dtype: object"
      ]
     },
     "execution_count": 72,
     "metadata": {},
     "output_type": "execute_result"
    }
   ],
   "source": [
    "data['Summary']"
   ]
  },
  {
   "cell_type": "code",
   "execution_count": 73,
   "id": "aa7034c2",
   "metadata": {},
   "outputs": [
    {
     "data": {
      "text/plain": [
       "0.8"
      ]
     },
     "execution_count": 73,
     "metadata": {},
     "output_type": "execute_result"
    }
   ],
   "source": [
    "TextBlob('Great Bargain for the Price').sentiment.polarity"
   ]
  },
  {
   "cell_type": "code",
   "execution_count": 74,
   "id": "9cfaf256",
   "metadata": {},
   "outputs": [
    {
     "data": {
      "text/plain": [
       "-1.0"
      ]
     },
     "execution_count": 74,
     "metadata": {},
     "output_type": "execute_result"
    }
   ],
   "source": [
    "TextBlob('Nasty No flavor').sentiment.polarity"
   ]
  },
  {
   "cell_type": "code",
   "execution_count": 75,
   "id": "71a7785f",
   "metadata": {},
   "outputs": [
    {
     "data": {
      "text/plain": [
       "(78220, 12)"
      ]
     },
     "execution_count": 75,
     "metadata": {},
     "output_type": "execute_result"
    }
   ],
   "source": [
    "data.shape"
   ]
  },
  {
   "cell_type": "code",
   "execution_count": 76,
   "id": "5ea51743",
   "metadata": {},
   "outputs": [],
   "source": [
    "sample = data[0:50000]"
   ]
  },
  {
   "cell_type": "code",
   "execution_count": 77,
   "id": "bbe9acd3",
   "metadata": {},
   "outputs": [],
   "source": [
    "polarity = []\n",
    "\n",
    "for text in sample['Summary']:\n",
    "    try:\n",
    "        polarity.append(TextBlob(text).sentiment.polarity)\n",
    "    except:\n",
    "        polarity.append(0)"
   ]
  },
  {
   "cell_type": "code",
   "execution_count": 78,
   "id": "3d49cb44",
   "metadata": {},
   "outputs": [
    {
     "data": {
      "text/plain": [
       "50000"
      ]
     },
     "execution_count": 78,
     "metadata": {},
     "output_type": "execute_result"
    }
   ],
   "source": [
    "len(polarity)"
   ]
  },
  {
   "cell_type": "code",
   "execution_count": 79,
   "id": "7180cda8",
   "metadata": {},
   "outputs": [],
   "source": [
    "sample['polarity'] = polarity"
   ]
  },
  {
   "cell_type": "code",
   "execution_count": 80,
   "id": "ac6ece67",
   "metadata": {},
   "outputs": [
    {
     "data": {
      "text/html": [
       "<div>\n",
       "<style scoped>\n",
       "    .dataframe tbody tr th:only-of-type {\n",
       "        vertical-align: middle;\n",
       "    }\n",
       "\n",
       "    .dataframe tbody tr th {\n",
       "        vertical-align: top;\n",
       "    }\n",
       "\n",
       "    .dataframe thead th {\n",
       "        text-align: right;\n",
       "    }\n",
       "</style>\n",
       "<table border=\"1\" class=\"dataframe\">\n",
       "  <thead>\n",
       "    <tr style=\"text-align: right;\">\n",
       "      <th></th>\n",
       "      <th>Id</th>\n",
       "      <th>ProductId</th>\n",
       "      <th>UserId</th>\n",
       "      <th>ProfileName</th>\n",
       "      <th>HelpfulnessNumerator</th>\n",
       "      <th>HelpfulnessDenominator</th>\n",
       "      <th>Score</th>\n",
       "      <th>Time</th>\n",
       "      <th>Summary</th>\n",
       "      <th>Text</th>\n",
       "      <th>viewer_type</th>\n",
       "      <th>Text_Length</th>\n",
       "      <th>polarity</th>\n",
       "    </tr>\n",
       "  </thead>\n",
       "  <tbody>\n",
       "    <tr>\n",
       "      <th>14</th>\n",
       "      <td>15</td>\n",
       "      <td>B001GVISJM</td>\n",
       "      <td>A2MUGFV2TDQ47K</td>\n",
       "      <td>Lynrie \"Oh HELL no\"</td>\n",
       "      <td>4</td>\n",
       "      <td>5</td>\n",
       "      <td>5</td>\n",
       "      <td>2010-03-12</td>\n",
       "      <td>Strawberry Twizzlers - Yummy</td>\n",
       "      <td>The Strawberry Twizzlers are my guilty pleasur...</td>\n",
       "      <td>Frequent</td>\n",
       "      <td>22</td>\n",
       "      <td>0.0</td>\n",
       "    </tr>\n",
       "    <tr>\n",
       "      <th>15</th>\n",
       "      <td>16</td>\n",
       "      <td>B001GVISJM</td>\n",
       "      <td>A1CZX3CP8IKQIJ</td>\n",
       "      <td>Brian A. Lee</td>\n",
       "      <td>4</td>\n",
       "      <td>5</td>\n",
       "      <td>5</td>\n",
       "      <td>2009-12-29</td>\n",
       "      <td>Lots of twizzlers, just what you expect.</td>\n",
       "      <td>My daughter loves twizzlers and this shipment ...</td>\n",
       "      <td>Not Frequent</td>\n",
       "      <td>24</td>\n",
       "      <td>0.0</td>\n",
       "    </tr>\n",
       "    <tr>\n",
       "      <th>26</th>\n",
       "      <td>27</td>\n",
       "      <td>B001GVISJM</td>\n",
       "      <td>A3RXAU2N8KV45G</td>\n",
       "      <td>lady21</td>\n",
       "      <td>0</td>\n",
       "      <td>1</td>\n",
       "      <td>1</td>\n",
       "      <td>2012-03-25</td>\n",
       "      <td>Nasty No flavor</td>\n",
       "      <td>The candy is just red , No flavor . Just  plan...</td>\n",
       "      <td>Not Frequent</td>\n",
       "      <td>22</td>\n",
       "      <td>-1.0</td>\n",
       "    </tr>\n",
       "    <tr>\n",
       "      <th>27</th>\n",
       "      <td>28</td>\n",
       "      <td>B001GVISJM</td>\n",
       "      <td>AAAS38B98HMIK</td>\n",
       "      <td>Heather Dube</td>\n",
       "      <td>0</td>\n",
       "      <td>1</td>\n",
       "      <td>4</td>\n",
       "      <td>2012-03-16</td>\n",
       "      <td>Great Bargain for the Price</td>\n",
       "      <td>I was so glad Amazon carried these batteries. ...</td>\n",
       "      <td>Not Frequent</td>\n",
       "      <td>38</td>\n",
       "      <td>0.8</td>\n",
       "    </tr>\n",
       "    <tr>\n",
       "      <th>31</th>\n",
       "      <td>32</td>\n",
       "      <td>B003F6UO7K</td>\n",
       "      <td>A31OQO709M20Y7</td>\n",
       "      <td>Molly V. Smith \"staral\"</td>\n",
       "      <td>0</td>\n",
       "      <td>1</td>\n",
       "      <td>5</td>\n",
       "      <td>2010-10-29</td>\n",
       "      <td>THIS IS MY TASTE...</td>\n",
       "      <td>This offer is a great price and a great taste,...</td>\n",
       "      <td>Not Frequent</td>\n",
       "      <td>18</td>\n",
       "      <td>0.0</td>\n",
       "    </tr>\n",
       "  </tbody>\n",
       "</table>\n",
       "</div>"
      ],
      "text/plain": [
       "    Id   ProductId          UserId              ProfileName  \\\n",
       "14  15  B001GVISJM  A2MUGFV2TDQ47K      Lynrie \"Oh HELL no\"   \n",
       "15  16  B001GVISJM  A1CZX3CP8IKQIJ             Brian A. Lee   \n",
       "26  27  B001GVISJM  A3RXAU2N8KV45G                   lady21   \n",
       "27  28  B001GVISJM   AAAS38B98HMIK             Heather Dube   \n",
       "31  32  B003F6UO7K  A31OQO709M20Y7  Molly V. Smith \"staral\"   \n",
       "\n",
       "    HelpfulnessNumerator  HelpfulnessDenominator  Score       Time  \\\n",
       "14                     4                       5      5 2010-03-12   \n",
       "15                     4                       5      5 2009-12-29   \n",
       "26                     0                       1      1 2012-03-25   \n",
       "27                     0                       1      4 2012-03-16   \n",
       "31                     0                       1      5 2010-10-29   \n",
       "\n",
       "                                     Summary  \\\n",
       "14              Strawberry Twizzlers - Yummy   \n",
       "15  Lots of twizzlers, just what you expect.   \n",
       "26                           Nasty No flavor   \n",
       "27               Great Bargain for the Price   \n",
       "31                       THIS IS MY TASTE...   \n",
       "\n",
       "                                                 Text   viewer_type  \\\n",
       "14  The Strawberry Twizzlers are my guilty pleasur...      Frequent   \n",
       "15  My daughter loves twizzlers and this shipment ...  Not Frequent   \n",
       "26  The candy is just red , No flavor . Just  plan...  Not Frequent   \n",
       "27  I was so glad Amazon carried these batteries. ...  Not Frequent   \n",
       "31  This offer is a great price and a great taste,...  Not Frequent   \n",
       "\n",
       "    Text_Length  polarity  \n",
       "14           22       0.0  \n",
       "15           24       0.0  \n",
       "26           22      -1.0  \n",
       "27           38       0.8  \n",
       "31           18       0.0  "
      ]
     },
     "execution_count": 80,
     "metadata": {},
     "output_type": "execute_result"
    }
   ],
   "source": [
    "sample.head()"
   ]
  },
  {
   "cell_type": "code",
   "execution_count": 81,
   "id": "edee06df",
   "metadata": {},
   "outputs": [],
   "source": [
    "sample_negative = sample[sample['polarity']<0]\n",
    "sample_positive = sample[sample['polarity']>0]"
   ]
  },
  {
   "cell_type": "code",
   "execution_count": 82,
   "id": "1b9886a2",
   "metadata": {},
   "outputs": [],
   "source": [
    "from collections import Counter"
   ]
  },
  {
   "cell_type": "code",
   "execution_count": 83,
   "id": "39e1b87f",
   "metadata": {},
   "outputs": [
    {
     "data": {
      "text/plain": [
       "[('Disappointed', 86),\n",
       " ('Disappointing', 49),\n",
       " ('Awful', 36),\n",
       " ('Horrible', 35),\n",
       " ('disappointed', 35),\n",
       " ('Not what I expected', 34),\n",
       " ('Disgusting', 27),\n",
       " ('Terrible', 27),\n",
       " ('Not good', 21),\n",
       " ('terrible', 21)]"
      ]
     },
     "execution_count": 83,
     "metadata": {},
     "output_type": "execute_result"
    }
   ],
   "source": [
    "Counter(sample_negative['Summary']).most_common(10)"
   ]
  },
  {
   "cell_type": "code",
   "execution_count": 84,
   "id": "fbaa2937",
   "metadata": {},
   "outputs": [
    {
     "data": {
      "text/plain": [
       "[('Delicious', 118),\n",
       " ('Delicious!', 109),\n",
       " ('Excellent', 58),\n",
       " ('Great Product', 58),\n",
       " ('Great product', 51),\n",
       " ('Great', 45),\n",
       " ('Great!', 36),\n",
       " ('Excellent!', 33),\n",
       " ('Good stuff', 33),\n",
       " ('Love it!', 33)]"
      ]
     },
     "execution_count": 84,
     "metadata": {},
     "output_type": "execute_result"
    }
   ],
   "source": [
    "Counter(sample_positive['Summary']).most_common(10)"
   ]
  },
  {
   "cell_type": "markdown",
   "id": "94f693f4",
   "metadata": {},
   "source": [
    "# END"
   ]
  }
 ],
 "metadata": {
  "kernelspec": {
   "display_name": "Python 3 (ipykernel)",
   "language": "python",
   "name": "python3"
  },
  "language_info": {
   "codemirror_mode": {
    "name": "ipython",
    "version": 3
   },
   "file_extension": ".py",
   "mimetype": "text/x-python",
   "name": "python",
   "nbconvert_exporter": "python",
   "pygments_lexer": "ipython3",
   "version": "3.9.12"
  }
 },
 "nbformat": 4,
 "nbformat_minor": 5
}
